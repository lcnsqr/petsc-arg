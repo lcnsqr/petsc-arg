{
 "cells": [
  {
   "cell_type": "markdown",
   "metadata": {},
   "source": [
    "# PETSc ARG\n",
    "\n",
    "## Setup\n",
    "\n",
    "First, check if you are at the correct project environment."
   ]
  },
  {
   "cell_type": "code",
   "execution_count": 27,
   "metadata": {},
   "outputs": [
    {
     "name": "stdout",
     "output_type": "stream",
     "text": [
      "\u001b[32m\u001b[1mStatus\u001b[22m\u001b[39m `~/Desktop/petsc-arg/ExperimentalDesign/Project.toml`\n",
      " \u001b[90m [336ed68f]\u001b[39m\u001b[37m CSV v0.7.7\u001b[39m\n",
      " \u001b[90m [a93c6f00]\u001b[39m\u001b[37m DataFrames v0.21.5\u001b[39m\n",
      " \u001b[90m [31c24e10]\u001b[39m\u001b[37m Distributions v0.23.6\u001b[39m\n",
      " \u001b[90m [ffbed154]\u001b[39m\u001b[37m DocStringExtensions v0.8.2\u001b[39m\n",
      " \u001b[90m [e30172f5]\u001b[39m\u001b[37m Documenter v0.24.11\u001b[39m\n",
      " \u001b[90m [4babbea4]\u001b[39m\u001b[37m ExperimentalDesign v0.3.3\u001b[39m\n",
      " \u001b[90m [38e38edf]\u001b[39m\u001b[37m GLM v1.3.9\u001b[39m\n",
      " \u001b[90m [91a5bcdd]\u001b[39m\u001b[37m Plots v1.5.7\u001b[39m\n",
      " \u001b[90m [27ebfcd6]\u001b[39m\u001b[37m Primes v0.5.0\u001b[39m\n",
      " \u001b[90m [2913bbd2]\u001b[39m\u001b[37m StatsBase v0.33.0\u001b[39m\n",
      " \u001b[90m [3eaba693]\u001b[39m\u001b[37m StatsModels v0.6.12\u001b[39m\n",
      " \u001b[90m [f3b207a7]\u001b[39m\u001b[37m StatsPlots v0.14.6\u001b[39m\n",
      " \u001b[90m [37e2e46d]\u001b[39m\u001b[37m LinearAlgebra \u001b[39m\n",
      " \u001b[90m [56ddb016]\u001b[39m\u001b[37m Logging \u001b[39m\n",
      " \u001b[90m [9a3f8284]\u001b[39m\u001b[37m Random \u001b[39m\n",
      " \u001b[90m [8dfed614]\u001b[39m\u001b[37m Test \u001b[39m\n"
     ]
    }
   ],
   "source": [
    "using Pkg\n",
    "Pkg.status()"
   ]
  },
  {
   "cell_type": "markdown",
   "metadata": {},
   "source": [
    "Then check if all packages are installed and up to date:"
   ]
  },
  {
   "cell_type": "code",
   "execution_count": 28,
   "metadata": {},
   "outputs": [
    {
     "name": "stderr",
     "output_type": "stream",
     "text": [
      "\u001b[32m\u001b[1m   Updating\u001b[22m\u001b[39m registry at `~/.julia/registries/General`\n"
     ]
    },
    {
     "name": "stdout",
     "output_type": "stream",
     "text": [
      "\u001b[?25l\u001b[2K"
     ]
    },
    {
     "name": "stderr",
     "output_type": "stream",
     "text": [
      "\u001b[32m\u001b[1m   Updating\u001b[22m\u001b[39m git-repo `https://github.com/JuliaRegistries/General.git`\n"
     ]
    },
    {
     "name": "stdout",
     "output_type": "stream",
     "text": [
      "\u001b[?25h"
     ]
    },
    {
     "name": "stderr",
     "output_type": "stream",
     "text": [
      "\u001b[32m\u001b[1m  Installed\u001b[22m\u001b[39m ColorTypes ───── v0.10.8\n",
      "\u001b[32m\u001b[1m  Installed\u001b[22m\u001b[39m DataStructures ─ v0.17.20\n",
      "\u001b[32m\u001b[1m  Installed\u001b[22m\u001b[39m StatsPlots ───── v0.14.7\n",
      "\u001b[32m\u001b[1m  Installed\u001b[22m\u001b[39m Distributions ── v0.23.8\n",
      "\u001b[32m\u001b[1m  Installed\u001b[22m\u001b[39m x264_jll ─────── v2020.7.14+1\n",
      "\u001b[32m\u001b[1m  Installed\u001b[22m\u001b[39m LibVPX_jll ───── v1.9.0+0\n",
      "\u001b[32m\u001b[1m  Installed\u001b[22m\u001b[39m Plots ────────── v1.5.8\n",
      "\u001b[32m\u001b[1m  Installed\u001b[22m\u001b[39m DataFrames ───── v0.21.6\n",
      "\u001b[32m\u001b[1m  Installed\u001b[22m\u001b[39m FFMPEG_jll ───── v4.3.1+1\n",
      "######################################################################### 100,0%##O=#  #                                                                       \n",
      "######################################################################### 100,0%##O=#  #                                                                       \n",
      "######################################################################### 100,0%##O#- #                                                                                   1,3%            16,0%\n",
      "\u001b[32m\u001b[1m   Updating\u001b[22m\u001b[39m `~/Desktop/petsc-arg/ExperimentalDesign/Project.toml`\n",
      " \u001b[90m [a93c6f00]\u001b[39m\u001b[93m ↑ DataFrames v0.21.5 ⇒ v0.21.6\u001b[39m\n",
      " \u001b[90m [31c24e10]\u001b[39m\u001b[93m ↑ Distributions v0.23.6 ⇒ v0.23.8\u001b[39m\n",
      " \u001b[90m [91a5bcdd]\u001b[39m\u001b[93m ↑ Plots v1.5.7 ⇒ v1.5.8\u001b[39m\n",
      " \u001b[90m [f3b207a7]\u001b[39m\u001b[93m ↑ StatsPlots v0.14.6 ⇒ v0.14.7\u001b[39m\n",
      "\u001b[32m\u001b[1m   Updating\u001b[22m\u001b[39m `~/Desktop/petsc-arg/ExperimentalDesign/Manifest.toml`\n",
      " \u001b[90m [3da002f7]\u001b[39m\u001b[93m ↑ ColorTypes v0.10.7 ⇒ v0.10.8\u001b[39m\n",
      " \u001b[90m [a93c6f00]\u001b[39m\u001b[93m ↑ DataFrames v0.21.5 ⇒ v0.21.6\u001b[39m\n",
      " \u001b[90m [864edb3b]\u001b[39m\u001b[93m ↑ DataStructures v0.17.19 ⇒ v0.17.20\u001b[39m\n",
      " \u001b[90m [31c24e10]\u001b[39m\u001b[93m ↑ Distributions v0.23.6 ⇒ v0.23.8\u001b[39m\n",
      " \u001b[90m [b22a6f82]\u001b[39m\u001b[93m ↑ FFMPEG_jll v4.1.0+3 ⇒ v4.3.1+1\u001b[39m\n",
      " \u001b[90m [dd192d2f]\u001b[39m\u001b[93m ↑ LibVPX_jll v1.8.1+1 ⇒ v1.9.0+0\u001b[39m\n",
      " \u001b[90m [91a5bcdd]\u001b[39m\u001b[93m ↑ Plots v1.5.7 ⇒ v1.5.8\u001b[39m\n",
      " \u001b[90m [f3b207a7]\u001b[39m\u001b[93m ↑ StatsPlots v0.14.6 ⇒ v0.14.7\u001b[39m\n",
      " \u001b[90m [1270edf5]\u001b[39m\u001b[93m ↑ x264_jll v2019.5.25+2 ⇒ v2020.7.14+1\u001b[39m\n",
      "\u001b[32m\u001b[1m   Building\u001b[22m\u001b[39m Plots → `~/.julia/packages/Plots/ViMfq/deps/build.log`\n"
     ]
    }
   ],
   "source": [
    "Pkg.update()"
   ]
  },
  {
   "cell_type": "code",
   "execution_count": 2,
   "metadata": {},
   "outputs": [
    {
     "name": "stderr",
     "output_type": "stream",
     "text": [
      "┌ Info: Precompiling ExperimentalDesign [4babbea4-9e7d-11e9-116f-e1ada04bd296]\n",
      "└ @ Base loading.jl:1260\n",
      "┌ Info: Precompiling GLM [38e38edf-8417-5370-95a0-9cbb8c7f171a]\n",
      "└ @ Base loading.jl:1260\n",
      "┌ Info: Precompiling StatsPlots [f3b207a7-027a-5e70-b257-86293d7955fd]\n",
      "└ @ Base loading.jl:1260\n",
      "┌ Info: Precompiling CSV [336ed68f-0bac-5ca0-87d4-7b16caf5d00b]\n",
      "└ @ Base loading.jl:1260\n"
     ]
    }
   ],
   "source": [
    "using ExperimentalDesign, StatsModels, GLM, DataFrames, Distributions, Random, StatsPlots, CSV"
   ]
  },
  {
   "cell_type": "markdown",
   "metadata": {},
   "source": [
    "# Designs with Categorical Factors"
   ]
  },
  {
   "cell_type": "markdown",
   "metadata": {},
   "source": [
    "## Target Application Parameters"
   ]
  },
  {
   "cell_type": "code",
   "execution_count": 14,
   "metadata": {
    "scrolled": true
   },
   "outputs": [
    {
     "data": {
      "text/plain": [
       "3"
      ]
     },
     "execution_count": 14,
     "metadata": {},
     "output_type": "execute_result"
    }
   ],
   "source": [
    "cmd_prefix = [\"singularity\", \"exec\", \"--nv\", \"../container/petsc-gpu.sif\", \"make\", \"-s\", \"-C\", \"../src\"]\n",
    "dev = \"core\"\n",
    "np = 4\n",
    "res = 100\n",
    "repetitions = 3"
   ]
  },
  {
   "cell_type": "markdown",
   "metadata": {},
   "source": [
    "## Response Function"
   ]
  },
  {
   "cell_type": "code",
   "execution_count": 15,
   "metadata": {},
   "outputs": [
    {
     "data": {
      "text/plain": [
       "y (generic function with 1 method)"
      ]
     },
     "execution_count": 15,
     "metadata": {},
     "output_type": "execute_result"
    }
   ],
   "source": [
    "# x is a set of flags\n",
    "function y(x)\n",
    "    parameters = []\n",
    "    for i in 1:length(x)\n",
    "        push!(parameters, rstrip(string(uppercase(string(keys(x)[i])), \"=\", x[i], \" \")))\n",
    "    end\n",
    "    \n",
    "    cmd = `$cmd_prefix $[dev, \"NP=$np\", \"RES=$res\"] $parameters`\n",
    "\n",
    "    main_stage = parse(Float64, chomp(read(cmd, String)))\n",
    "    return main_stage\n",
    "end"
   ]
  },
  {
   "cell_type": "markdown",
   "metadata": {},
   "source": [
    "## Full Factorial Design"
   ]
  },
  {
   "cell_type": "code",
   "execution_count": 20,
   "metadata": {},
   "outputs": [
    {
     "data": {
      "text/plain": [
       "FullFactorial\n",
       "Dimension: (36, 2)\n",
       "Factors: (ksp_type = [\"cg\", \"gmres\", \"fcg\", \"tcqmr\", \"cgs\", \"bcgs\", \"tfqmr\", \"cr\", \"gcr\"], pc_type = [\"jacobi\", \"sor\", \"bjacobi\", \"mg\"])\n",
       "Formula: y ~ ksp_type + pc_type\n",
       "Design Matrix:\n",
       "36×2 DataFrame\n",
       "│ Row │ ksp_type │ pc_type │\n",
       "│     │ \u001b[90mString\u001b[39m   │ \u001b[90mString\u001b[39m  │\n",
       "├─────┼──────────┼─────────┤\n",
       "│ 1   │ cg       │ jacobi  │\n",
       "│ 2   │ gmres    │ jacobi  │\n",
       "│ 3   │ fcg      │ jacobi  │\n",
       "│ 4   │ tcqmr    │ jacobi  │\n",
       "│ 5   │ cgs      │ jacobi  │\n",
       "│ 6   │ bcgs     │ jacobi  │\n",
       "│ 7   │ tfqmr    │ jacobi  │\n",
       "│ 8   │ cr       │ jacobi  │\n",
       "│ 9   │ gcr      │ jacobi  │\n",
       "│ 10  │ cg       │ sor     │\n",
       "⋮\n",
       "│ 26  │ cr       │ bjacobi │\n",
       "│ 27  │ gcr      │ bjacobi │\n",
       "│ 28  │ cg       │ mg      │\n",
       "│ 29  │ gmres    │ mg      │\n",
       "│ 30  │ fcg      │ mg      │\n",
       "│ 31  │ tcqmr    │ mg      │\n",
       "│ 32  │ cgs      │ mg      │\n",
       "│ 33  │ bcgs     │ mg      │\n",
       "│ 34  │ tfqmr    │ mg      │\n",
       "│ 35  │ cr       │ mg      │\n",
       "│ 36  │ gcr      │ mg      │"
      ]
     },
     "execution_count": 20,
     "metadata": {},
     "output_type": "execute_result"
    }
   ],
   "source": [
    "factorial_design = FullFactorial((ksp_type = [\"cg\", \"gmres\", \"fcg\", \"tcqmr\", \"cgs\", \"bcgs\", \"tfqmr\", \"cr\", \"gcr\"],\n",
    "        pc_type = [\"jacobi\", \"sor\", \"bjacobi\", \"mg\"]), @formula(y ~ ksp_type + pc_type))"
   ]
  },
  {
   "cell_type": "code",
   "execution_count": 21,
   "metadata": {},
   "outputs": [
    {
     "data": {
      "text/plain": [
       "\"repeated_measurements_full.csv\""
      ]
     },
     "execution_count": 21,
     "metadata": {},
     "output_type": "execute_result"
    }
   ],
   "source": [
    "factorial_design.matrix[!, :response] = y.(eachrow(factorial_design.matrix))\n",
    "\n",
    "results = copy(factorial_design.matrix)\n",
    "\n",
    "for i in 1:repetitions\n",
    "    factorial_design.matrix[!, :response] = y.(eachrow(factorial_design.matrix))\n",
    "    append!(results, copy(factorial_design.matrix))\n",
    "end\n",
    "\n",
    "# Save CSV\n",
    "CSV.write(\"repeated_measurements_full.csv\", results)"
   ]
  },
  {
   "cell_type": "code",
   "execution_count": 22,
   "metadata": {},
   "outputs": [
    {
     "name": "stdout",
     "output_type": "stream",
     "text": [
      "FullFactorial\n",
      "Dimension: (36, 3)\n",
      "Factors: (ksp_type = [\"cg\", \"gmres\", \"fcg\", \"tcqmr\", \"cgs\", \"bcgs\", \"tfqmr\", \"cr\", \"gcr\"], pc_type = [\"jacobi\", \"sor\", \"bjacobi\", \"mg\"])\n",
      "Formula: y ~ ksp_type + pc_type\n",
      "Design Matrix:\n",
      "36×3 DataFrame\n",
      "│ Row │ ksp_type │ pc_type │ response │\n",
      "│     │ \u001b[90mString\u001b[39m   │ \u001b[90mString\u001b[39m  │ \u001b[90mFloat64\u001b[39m  │\n",
      "├─────┼──────────┼─────────┼──────────┤\n",
      "│ 1   │ cg       │ jacobi  │ 0.075633 │\n",
      "│ 2   │ gmres    │ jacobi  │ 0.17118  │\n",
      "│ 3   │ fcg      │ jacobi  │ 0.09418  │\n",
      "│ 4   │ tcqmr    │ jacobi  │ 0.09769  │\n",
      "│ 5   │ cgs      │ jacobi  │ 0.086916 │\n",
      "│ 6   │ bcgs     │ jacobi  │ 0.11849  │\n",
      "│ 7   │ tfqmr    │ jacobi  │ 0.1161   │\n",
      "│ 8   │ cr       │ jacobi  │ 0.073173 │\n",
      "│ 9   │ gcr      │ jacobi  │ 0.30456  │\n",
      "│ 10  │ cg       │ sor     │ 0.084158 │\n",
      "│ 11  │ gmres    │ sor     │ 0.094154 │\n",
      "│ 12  │ fcg      │ sor     │ 0.09609  │\n",
      "│ 13  │ tcqmr    │ sor     │ 0.17292  │\n",
      "│ 14  │ cgs      │ sor     │ 0.068118 │\n",
      "│ 15  │ bcgs     │ sor     │ 0.061435 │\n",
      "│ 16  │ tfqmr    │ sor     │ 0.068605 │\n",
      "│ 17  │ cr       │ sor     │ 0.068482 │\n",
      "│ 18  │ gcr      │ sor     │ 0.089535 │\n",
      "│ 19  │ cg       │ bjacobi │ 0.065605 │\n",
      "│ 20  │ gmres    │ bjacobi │ 0.080505 │\n",
      "│ 21  │ fcg      │ bjacobi │ 0.071894 │\n",
      "│ 22  │ tcqmr    │ bjacobi │ 0.1039   │\n",
      "│ 23  │ cgs      │ bjacobi │ 0.07233  │\n",
      "│ 24  │ bcgs     │ bjacobi │ 0.070243 │\n",
      "│ 25  │ tfqmr    │ bjacobi │ 0.069385 │\n",
      "│ 26  │ cr       │ bjacobi │ 0.064755 │\n",
      "│ 27  │ gcr      │ bjacobi │ 0.13286  │\n",
      "│ 28  │ cg       │ mg      │ 0.077582 │\n",
      "│ 29  │ gmres    │ mg      │ 0.085431 │\n",
      "│ 30  │ fcg      │ mg      │ 0.10486  │\n",
      "│ 31  │ tcqmr    │ mg      │ 0.19332  │\n",
      "│ 32  │ cgs      │ mg      │ 0.10456  │\n",
      "│ 33  │ bcgs     │ mg      │ 0.091384 │\n",
      "│ 34  │ tfqmr    │ mg      │ 0.081883 │\n",
      "│ 35  │ cr       │ mg      │ 0.086105 │\n",
      "│ 36  │ gcr      │ mg      │ 0.09151  │"
     ]
    }
   ],
   "source": [
    "print(factorial_design)"
   ]
  },
  {
   "cell_type": "markdown",
   "metadata": {},
   "source": [
    "## Sampling Random Experiments"
   ]
  },
  {
   "cell_type": "code",
   "execution_count": 3,
   "metadata": {},
   "outputs": [
    {
     "data": {
      "text/plain": [
       "DesignDistribution\n",
       "Formula: 0 ~ ksp_type + pc_type\n",
       "Factor Distributions:\n",
       "ksp_type: CategoricalFactor(\n",
       "values: [\"cg\", \"gmres\", \"fcg\", \"tcqmr\", \"cgs\", \"bcgs\", \"tfqmr\", \"cr\", \"gcr\"]\n",
       "distribution: DiscreteUniform(a=1, b=9)\n",
       ")\n",
       "\n",
       "pc_type: CategoricalFactor(\n",
       "values: [\"jacobi\", \"sor\", \"bjacobi\", \"mg\"]\n",
       "distribution: DiscreteUniform(a=1, b=4)\n",
       ")\n"
      ]
     },
     "execution_count": 3,
     "metadata": {},
     "output_type": "execute_result"
    }
   ],
   "source": [
    "design_distribution = DesignDistribution((ksp_type = CategoricalFactor([\"cg\", \"gmres\", \"fcg\", \"tcqmr\", \"cgs\", \"bcgs\", \"tfqmr\", \"cr\", \"gcr\"]),\n",
    "        pc_type = CategoricalFactor([\"jacobi\", \"sor\", \"bjacobi\", \"mg\"])))"
   ]
  },
  {
   "cell_type": "code",
   "execution_count": 31,
   "metadata": {},
   "outputs": [
    {
     "data": {
      "text/plain": [
       "OptimalDesign\n",
       "Dimension: (10, 2)\n",
       "Factors: (ksp_type = CategoricalFactor(\n",
       "values: [\"cg\", \"gmres\", \"fcg\", \"tcqmr\", \"cgs\", \"bcgs\", \"tfqmr\", \"cr\", \"gcr\"]\n",
       "distribution: DiscreteUniform(a=1, b=9)\n",
       ")\n",
       ", pc_type = CategoricalFactor(\n",
       "values: [\"jacobi\", \"sor\", \"bjacobi\", \"mg\"]\n",
       "distribution: DiscreteUniform(a=1, b=4)\n",
       ")\n",
       ")\n",
       "Formula: 0 ~ ksp_type + pc_type\n",
       "Selected Candidate Rows: [215, 231, 141, 172, 212, 200, 187, 206, 3, 56]\n",
       "Optimality Criteria: Dict(:D => 0.00426276981725733)\n",
       "Design Matrix:\n",
       "10×2 DataFrame\n",
       "│ Row │ ksp_type │ pc_type │\n",
       "│     │ \u001b[90mString\u001b[39m   │ \u001b[90mString\u001b[39m  │\n",
       "├─────┼──────────┼─────────┤\n",
       "│ 1   │ cgs      │ sor     │\n",
       "│ 2   │ gcr      │ mg      │\n",
       "│ 3   │ tfqmr    │ bjacobi │\n",
       "│ 4   │ gmres    │ jacobi  │\n",
       "│ 5   │ cr       │ bjacobi │\n",
       "│ 6   │ tcqmr    │ sor     │\n",
       "│ 7   │ cgs      │ mg      │\n",
       "│ 8   │ bcgs     │ jacobi  │\n",
       "│ 9   │ cg       │ bjacobi │\n",
       "│ 10  │ fcg      │ bjacobi │"
      ]
     },
     "execution_count": 31,
     "metadata": {},
     "output_type": "execute_result"
    }
   ],
   "source": [
    "design = rand(design_distribution, 300)\n",
    "f = @formula 0 ~ ksp_type + pc_type\n",
    "optimal_design = OptimalDesign(design, f, 10)"
   ]
  },
  {
   "cell_type": "markdown",
   "metadata": {},
   "source": [
    "Plot design"
   ]
  },
  {
   "cell_type": "code",
   "execution_count": 32,
   "metadata": {},
   "outputs": [
    {
     "data": {
      "image/svg+xml": [
       "<?xml version=\"1.0\" encoding=\"utf-8\"?>\n",
       "<svg xmlns=\"http://www.w3.org/2000/svg\" xmlns:xlink=\"http://www.w3.org/1999/xlink\" width=\"600\" height=\"600\" viewBox=\"0 0 2400 2400\">\n",
       "<defs>\n",
       "  <clipPath id=\"clip500\">\n",
       "    <rect x=\"0\" y=\"0\" width=\"2400\" height=\"2400\"/>\n",
       "  </clipPath>\n",
       "</defs>\n",
       "<path clip-path=\"url(#clip500)\" d=\"\n",
       "M0 2400 L2400 2400 L2400 0 L0 0  Z\n",
       "  \" fill=\"#ffffff\" fill-rule=\"evenodd\" fill-opacity=\"1\"/>\n",
       "<defs>\n",
       "  <clipPath id=\"clip501\">\n",
       "    <rect x=\"480\" y=\"240\" width=\"1681\" height=\"1681\"/>\n",
       "  </clipPath>\n",
       "</defs>\n",
       "<path clip-path=\"url(#clip500)\" d=\"\n",
       "M316.45 2174.14 L2352.76 2174.14 L2352.76 153.712 L316.45 153.712  Z\n",
       "  \" fill=\"#ffffff\" fill-rule=\"evenodd\" fill-opacity=\"1\"/>\n",
       "<defs>\n",
       "  <clipPath id=\"clip502\">\n",
       "    <rect x=\"316\" y=\"153\" width=\"2037\" height=\"2021\"/>\n",
       "  </clipPath>\n",
       "</defs>\n",
       "<polyline clip-path=\"url(#clip502)\" style=\"stroke:#000000; stroke-width:2; stroke-opacity:0.1; fill:none\" points=\"\n",
       "  374.081,2174.14 374.081,153.712 \n",
       "  \"/>\n",
       "<polyline clip-path=\"url(#clip502)\" style=\"stroke:#000000; stroke-width:2; stroke-opacity:0.1; fill:none\" points=\"\n",
       "  614.212,2174.14 614.212,153.712 \n",
       "  \"/>\n",
       "<polyline clip-path=\"url(#clip502)\" style=\"stroke:#000000; stroke-width:2; stroke-opacity:0.1; fill:none\" points=\"\n",
       "  854.342,2174.14 854.342,153.712 \n",
       "  \"/>\n",
       "<polyline clip-path=\"url(#clip502)\" style=\"stroke:#000000; stroke-width:2; stroke-opacity:0.1; fill:none\" points=\"\n",
       "  1094.47,2174.14 1094.47,153.712 \n",
       "  \"/>\n",
       "<polyline clip-path=\"url(#clip502)\" style=\"stroke:#000000; stroke-width:2; stroke-opacity:0.1; fill:none\" points=\"\n",
       "  1334.6,2174.14 1334.6,153.712 \n",
       "  \"/>\n",
       "<polyline clip-path=\"url(#clip502)\" style=\"stroke:#000000; stroke-width:2; stroke-opacity:0.1; fill:none\" points=\"\n",
       "  1574.73,2174.14 1574.73,153.712 \n",
       "  \"/>\n",
       "<polyline clip-path=\"url(#clip502)\" style=\"stroke:#000000; stroke-width:2; stroke-opacity:0.1; fill:none\" points=\"\n",
       "  1814.86,2174.14 1814.86,153.712 \n",
       "  \"/>\n",
       "<polyline clip-path=\"url(#clip502)\" style=\"stroke:#000000; stroke-width:2; stroke-opacity:0.1; fill:none\" points=\"\n",
       "  2054.99,2174.14 2054.99,153.712 \n",
       "  \"/>\n",
       "<polyline clip-path=\"url(#clip502)\" style=\"stroke:#000000; stroke-width:2; stroke-opacity:0.1; fill:none\" points=\"\n",
       "  2295.12,2174.14 2295.12,153.712 \n",
       "  \"/>\n",
       "<polyline clip-path=\"url(#clip502)\" style=\"stroke:#000000; stroke-width:2; stroke-opacity:0.1; fill:none\" points=\"\n",
       "  316.45,2116.96 2352.76,2116.96 \n",
       "  \"/>\n",
       "<polyline clip-path=\"url(#clip502)\" style=\"stroke:#000000; stroke-width:2; stroke-opacity:0.1; fill:none\" points=\"\n",
       "  316.45,1481.6 2352.76,1481.6 \n",
       "  \"/>\n",
       "<polyline clip-path=\"url(#clip502)\" style=\"stroke:#000000; stroke-width:2; stroke-opacity:0.1; fill:none\" points=\"\n",
       "  316.45,846.249 2352.76,846.249 \n",
       "  \"/>\n",
       "<polyline clip-path=\"url(#clip502)\" style=\"stroke:#000000; stroke-width:2; stroke-opacity:0.1; fill:none\" points=\"\n",
       "  316.45,210.894 2352.76,210.894 \n",
       "  \"/>\n",
       "<polyline clip-path=\"url(#clip500)\" style=\"stroke:#000000; stroke-width:4; stroke-opacity:1; fill:none\" points=\"\n",
       "  316.45,2174.14 2352.76,2174.14 \n",
       "  \"/>\n",
       "<polyline clip-path=\"url(#clip500)\" style=\"stroke:#000000; stroke-width:4; stroke-opacity:1; fill:none\" points=\"\n",
       "  316.45,2174.14 316.45,153.712 \n",
       "  \"/>\n",
       "<polyline clip-path=\"url(#clip500)\" style=\"stroke:#000000; stroke-width:4; stroke-opacity:1; fill:none\" points=\"\n",
       "  374.081,2174.14 374.081,2149.89 \n",
       "  \"/>\n",
       "<polyline clip-path=\"url(#clip500)\" style=\"stroke:#000000; stroke-width:4; stroke-opacity:1; fill:none\" points=\"\n",
       "  614.212,2174.14 614.212,2149.89 \n",
       "  \"/>\n",
       "<polyline clip-path=\"url(#clip500)\" style=\"stroke:#000000; stroke-width:4; stroke-opacity:1; fill:none\" points=\"\n",
       "  854.342,2174.14 854.342,2149.89 \n",
       "  \"/>\n",
       "<polyline clip-path=\"url(#clip500)\" style=\"stroke:#000000; stroke-width:4; stroke-opacity:1; fill:none\" points=\"\n",
       "  1094.47,2174.14 1094.47,2149.89 \n",
       "  \"/>\n",
       "<polyline clip-path=\"url(#clip500)\" style=\"stroke:#000000; stroke-width:4; stroke-opacity:1; fill:none\" points=\"\n",
       "  1334.6,2174.14 1334.6,2149.89 \n",
       "  \"/>\n",
       "<polyline clip-path=\"url(#clip500)\" style=\"stroke:#000000; stroke-width:4; stroke-opacity:1; fill:none\" points=\"\n",
       "  1574.73,2174.14 1574.73,2149.89 \n",
       "  \"/>\n",
       "<polyline clip-path=\"url(#clip500)\" style=\"stroke:#000000; stroke-width:4; stroke-opacity:1; fill:none\" points=\"\n",
       "  1814.86,2174.14 1814.86,2149.89 \n",
       "  \"/>\n",
       "<polyline clip-path=\"url(#clip500)\" style=\"stroke:#000000; stroke-width:4; stroke-opacity:1; fill:none\" points=\"\n",
       "  2054.99,2174.14 2054.99,2149.89 \n",
       "  \"/>\n",
       "<polyline clip-path=\"url(#clip500)\" style=\"stroke:#000000; stroke-width:4; stroke-opacity:1; fill:none\" points=\"\n",
       "  2295.12,2174.14 2295.12,2149.89 \n",
       "  \"/>\n",
       "<polyline clip-path=\"url(#clip500)\" style=\"stroke:#000000; stroke-width:4; stroke-opacity:1; fill:none\" points=\"\n",
       "  316.45,2116.96 340.886,2116.96 \n",
       "  \"/>\n",
       "<polyline clip-path=\"url(#clip500)\" style=\"stroke:#000000; stroke-width:4; stroke-opacity:1; fill:none\" points=\"\n",
       "  316.45,1481.6 340.886,1481.6 \n",
       "  \"/>\n",
       "<polyline clip-path=\"url(#clip500)\" style=\"stroke:#000000; stroke-width:4; stroke-opacity:1; fill:none\" points=\"\n",
       "  316.45,846.249 340.886,846.249 \n",
       "  \"/>\n",
       "<polyline clip-path=\"url(#clip500)\" style=\"stroke:#000000; stroke-width:4; stroke-opacity:1; fill:none\" points=\"\n",
       "  316.45,210.894 340.886,210.894 \n",
       "  \"/>\n",
       "<path clip-path=\"url(#clip500)\" d=\"M 0 0 M360.25 2202.68 L360.25 2206.66 Q358.445 2205.67 356.616 2205.18 Q354.811 2204.67 352.959 2204.67 Q348.815 2204.67 346.524 2207.31 Q344.232 2209.93 344.232 2214.67 Q344.232 2219.42 346.524 2222.06 Q348.815 2224.67 352.959 2224.67 Q354.811 2224.67 356.616 2224.19 Q358.445 2223.68 360.25 2222.68 L360.25 2226.62 Q358.468 2227.45 356.547 2227.87 Q354.648 2228.28 352.496 2228.28 Q346.639 2228.28 343.19 2224.6 Q339.741 2220.92 339.741 2214.67 Q339.741 2208.33 343.213 2204.7 Q346.709 2201.06 352.773 2201.06 Q354.741 2201.06 356.616 2201.48 Q358.491 2201.87 360.25 2202.68 Z\" fill=\"#000000\" fill-rule=\"evenodd\" fill-opacity=\"1\" /><path clip-path=\"url(#clip500)\" d=\"M 0 0 M381.778 2214.35 Q381.778 2209.72 379.857 2207.17 Q377.959 2204.63 374.509 2204.63 Q371.084 2204.63 369.162 2207.17 Q367.264 2209.72 367.264 2214.35 Q367.264 2218.95 369.162 2221.5 Q371.084 2224.05 374.509 2224.05 Q377.959 2224.05 379.857 2221.5 Q381.778 2218.95 381.778 2214.35 M386.037 2224.39 Q386.037 2231.01 383.097 2234.23 Q380.158 2237.47 374.093 2237.47 Q371.847 2237.47 369.857 2237.13 Q367.866 2236.8 365.991 2236.11 L365.991 2231.96 Q367.866 2232.98 369.695 2233.47 Q371.523 2233.95 373.422 2233.95 Q377.611 2233.95 379.695 2231.76 Q381.778 2229.58 381.778 2225.16 L381.778 2223.05 Q380.459 2225.34 378.398 2226.48 Q376.338 2227.61 373.468 2227.61 Q368.699 2227.61 365.783 2223.98 Q362.866 2220.34 362.866 2214.35 Q362.866 2208.33 365.783 2204.7 Q368.699 2201.06 373.468 2201.06 Q376.338 2201.06 378.398 2202.2 Q380.459 2203.33 381.778 2205.62 L381.778 2201.69 L386.037 2201.69 L386.037 2224.39 Z\" fill=\"#000000\" fill-rule=\"evenodd\" fill-opacity=\"1\" /><path clip-path=\"url(#clip500)\" d=\"M 0 0 M407.032 2202.45 L407.032 2206.48 Q405.227 2205.55 403.282 2205.09 Q401.338 2204.63 399.255 2204.63 Q396.083 2204.63 394.486 2205.6 Q392.912 2206.57 392.912 2208.51 Q392.912 2210 394.046 2210.85 Q395.181 2211.69 398.607 2212.45 L400.065 2212.77 Q404.602 2213.75 406.5 2215.53 Q408.421 2217.29 408.421 2220.46 Q408.421 2224.07 405.551 2226.18 Q402.704 2228.28 397.704 2228.28 Q395.62 2228.28 393.352 2227.87 Q391.107 2227.47 388.607 2226.66 L388.607 2222.26 Q390.968 2223.49 393.259 2224.12 Q395.551 2224.72 397.796 2224.72 Q400.806 2224.72 402.426 2223.7 Q404.046 2222.66 404.046 2220.78 Q404.046 2219.05 402.866 2218.12 Q401.708 2217.2 397.75 2216.34 L396.269 2215.99 Q392.31 2215.16 390.551 2213.45 Q388.792 2211.71 388.792 2208.7 Q388.792 2205.04 391.384 2203.05 Q393.977 2201.06 398.745 2201.06 Q401.107 2201.06 403.19 2201.41 Q405.273 2201.76 407.032 2202.45 Z\" fill=\"#000000\" fill-rule=\"evenodd\" fill-opacity=\"1\" /><path clip-path=\"url(#clip500)\" d=\"M 0 0 M600.23 2214.35 Q600.23 2209.72 598.309 2207.17 Q596.411 2204.63 592.962 2204.63 Q589.536 2204.63 587.615 2207.17 Q585.716 2209.72 585.716 2214.35 Q585.716 2218.95 587.615 2221.5 Q589.536 2224.05 592.962 2224.05 Q596.411 2224.05 598.309 2221.5 Q600.23 2218.95 600.23 2214.35 M604.489 2224.39 Q604.489 2231.01 601.55 2234.23 Q598.61 2237.47 592.545 2237.47 Q590.3 2237.47 588.309 2237.13 Q586.318 2236.8 584.443 2236.11 L584.443 2231.96 Q586.318 2232.98 588.147 2233.47 Q589.976 2233.95 591.874 2233.95 Q596.064 2233.95 598.147 2231.76 Q600.23 2229.58 600.23 2225.16 L600.23 2223.05 Q598.911 2225.34 596.851 2226.48 Q594.79 2227.61 591.92 2227.61 Q587.152 2227.61 584.235 2223.98 Q581.318 2220.34 581.318 2214.35 Q581.318 2208.33 584.235 2204.7 Q587.152 2201.06 591.92 2201.06 Q594.79 2201.06 596.851 2202.2 Q598.911 2203.33 600.23 2205.62 L600.23 2201.69 L604.489 2201.69 L604.489 2224.39 Z\" fill=\"#000000\" fill-rule=\"evenodd\" fill-opacity=\"1\" /><path clip-path=\"url(#clip500)\" d=\"M 0 0 M627.614 2202.68 L627.614 2206.66 Q625.809 2205.67 623.98 2205.18 Q622.175 2204.67 620.323 2204.67 Q616.179 2204.67 613.888 2207.31 Q611.596 2209.93 611.596 2214.67 Q611.596 2219.42 613.888 2222.06 Q616.179 2224.67 620.323 2224.67 Q622.175 2224.67 623.98 2224.19 Q625.809 2223.68 627.614 2222.68 L627.614 2226.62 Q625.832 2227.45 623.911 2227.87 Q622.013 2228.28 619.86 2228.28 Q614.003 2228.28 610.554 2224.6 Q607.105 2220.92 607.105 2214.67 Q607.105 2208.33 610.577 2204.7 Q614.073 2201.06 620.138 2201.06 Q622.105 2201.06 623.98 2201.48 Q625.855 2201.87 627.614 2202.68 Z\" fill=\"#000000\" fill-rule=\"evenodd\" fill-opacity=\"1\" /><path clip-path=\"url(#clip500)\" d=\"M 0 0 M647.105 2205.67 Q646.387 2205.25 645.531 2205.07 Q644.698 2204.86 643.679 2204.86 Q640.068 2204.86 638.124 2207.22 Q636.202 2209.56 636.202 2213.95 L636.202 2227.61 L631.92 2227.61 L631.92 2201.69 L636.202 2201.69 L636.202 2205.71 Q637.545 2203.35 639.698 2202.22 Q641.85 2201.06 644.929 2201.06 Q645.369 2201.06 645.901 2201.13 Q646.434 2201.18 647.082 2201.29 L647.105 2205.67 Z\" fill=\"#000000\" fill-rule=\"evenodd\" fill-opacity=\"1\" /><path clip-path=\"url(#clip500)\" d=\"M 0 0 M801.148 2194.32 L801.148 2201.69 L809.921 2201.69 L809.921 2205 L801.148 2205 L801.148 2219.07 Q801.148 2222.24 802.004 2223.14 Q802.884 2224.05 805.546 2224.05 L809.921 2224.05 L809.921 2227.61 L805.546 2227.61 Q800.616 2227.61 798.741 2225.78 Q796.866 2223.93 796.866 2219.07 L796.866 2205 L793.741 2205 L793.741 2201.69 L796.866 2201.69 L796.866 2194.32 L801.148 2194.32 Z\" fill=\"#000000\" fill-rule=\"evenodd\" fill-opacity=\"1\" /><path clip-path=\"url(#clip500)\" d=\"M 0 0 M827.514 2191.59 L827.514 2195.14 L823.439 2195.14 Q821.148 2195.14 820.245 2196.06 Q819.365 2196.99 819.365 2199.39 L819.365 2201.69 L826.379 2201.69 L826.379 2205 L819.365 2205 L819.365 2227.61 L815.083 2227.61 L815.083 2205 L811.009 2205 L811.009 2201.69 L815.083 2201.69 L815.083 2199.88 Q815.083 2195.55 817.097 2193.58 Q819.111 2191.59 823.486 2191.59 L827.514 2191.59 Z\" fill=\"#000000\" fill-rule=\"evenodd\" fill-opacity=\"1\" /><path clip-path=\"url(#clip500)\" d=\"M 0 0 M834.527 2214.67 Q834.527 2219.37 836.449 2222.06 Q838.393 2224.72 841.773 2224.72 Q845.152 2224.72 847.097 2222.06 Q849.041 2219.37 849.041 2214.67 Q849.041 2209.97 847.097 2207.31 Q845.152 2204.63 841.773 2204.63 Q838.393 2204.63 836.449 2207.31 Q834.527 2209.97 834.527 2214.67 M849.041 2223.72 Q847.699 2226.04 845.638 2227.17 Q843.601 2228.28 840.731 2228.28 Q836.032 2228.28 833.069 2224.53 Q830.129 2220.78 830.129 2214.67 Q830.129 2208.56 833.069 2204.81 Q836.032 2201.06 840.731 2201.06 Q843.601 2201.06 845.638 2202.2 Q847.699 2203.31 849.041 2205.62 L849.041 2201.69 L853.3 2201.69 L853.3 2237.47 L849.041 2237.47 L849.041 2223.72 Z\" fill=\"#000000\" fill-rule=\"evenodd\" fill-opacity=\"1\" /><path clip-path=\"url(#clip500)\" d=\"M 0 0 M877.953 2206.66 Q879.55 2203.79 881.772 2202.43 Q883.995 2201.06 887.004 2201.06 Q891.055 2201.06 893.254 2203.91 Q895.453 2206.73 895.453 2211.96 L895.453 2227.61 L891.171 2227.61 L891.171 2212.1 Q891.171 2208.38 889.851 2206.57 Q888.532 2204.76 885.823 2204.76 Q882.513 2204.76 880.592 2206.96 Q878.671 2209.16 878.671 2212.96 L878.671 2227.61 L874.388 2227.61 L874.388 2212.1 Q874.388 2208.35 873.069 2206.57 Q871.749 2204.76 868.995 2204.76 Q865.731 2204.76 863.81 2206.99 Q861.888 2209.19 861.888 2212.96 L861.888 2227.61 L857.606 2227.61 L857.606 2201.69 L861.888 2201.69 L861.888 2205.71 Q863.347 2203.33 865.384 2202.2 Q867.421 2201.06 870.222 2201.06 Q873.046 2201.06 875.013 2202.5 Q877.004 2203.93 877.953 2206.66 Z\" fill=\"#000000\" fill-rule=\"evenodd\" fill-opacity=\"1\" /><path clip-path=\"url(#clip500)\" d=\"M 0 0 M914.944 2205.67 Q914.226 2205.25 913.37 2205.07 Q912.536 2204.86 911.518 2204.86 Q907.907 2204.86 905.962 2207.22 Q904.041 2209.56 904.041 2213.95 L904.041 2227.61 L899.759 2227.61 L899.759 2201.69 L904.041 2201.69 L904.041 2205.71 Q905.383 2203.35 907.536 2202.22 Q909.689 2201.06 912.768 2201.06 Q913.208 2201.06 913.74 2201.13 Q914.272 2201.18 914.92 2201.29 L914.944 2205.67 Z\" fill=\"#000000\" fill-rule=\"evenodd\" fill-opacity=\"1\" /><path clip-path=\"url(#clip500)\" d=\"M 0 0 M1046.98 2214.35 Q1046.98 2209.72 1045.06 2207.17 Q1043.16 2204.63 1039.72 2204.63 Q1036.29 2204.63 1034.37 2207.17 Q1032.47 2209.72 1032.47 2214.35 Q1032.47 2218.95 1034.37 2221.5 Q1036.29 2224.05 1039.72 2224.05 Q1043.16 2224.05 1045.06 2221.5 Q1046.98 2218.95 1046.98 2214.35 M1051.24 2224.39 Q1051.24 2231.01 1048.3 2234.23 Q1045.36 2237.47 1039.3 2237.47 Q1037.05 2237.47 1035.06 2237.13 Q1033.07 2236.8 1031.2 2236.11 L1031.2 2231.96 Q1033.07 2232.98 1034.9 2233.47 Q1036.73 2233.95 1038.63 2233.95 Q1042.82 2233.95 1044.9 2231.76 Q1046.98 2229.58 1046.98 2225.16 L1046.98 2223.05 Q1045.66 2225.34 1043.6 2226.48 Q1041.54 2227.61 1038.67 2227.61 Q1033.91 2227.61 1030.99 2223.98 Q1028.07 2220.34 1028.07 2214.35 Q1028.07 2208.33 1030.99 2204.7 Q1033.91 2201.06 1038.67 2201.06 Q1041.54 2201.06 1043.6 2202.2 Q1045.66 2203.33 1046.98 2205.62 L1046.98 2201.69 L1051.24 2201.69 L1051.24 2224.39 Z\" fill=\"#000000\" fill-rule=\"evenodd\" fill-opacity=\"1\" /><path clip-path=\"url(#clip500)\" d=\"M 0 0 M1075.9 2206.66 Q1077.49 2203.79 1079.72 2202.43 Q1081.94 2201.06 1084.95 2201.06 Q1089 2201.06 1091.2 2203.91 Q1093.4 2206.73 1093.4 2211.96 L1093.4 2227.61 L1089.11 2227.61 L1089.11 2212.1 Q1089.11 2208.38 1087.79 2206.57 Q1086.47 2204.76 1083.77 2204.76 Q1080.46 2204.76 1078.54 2206.96 Q1076.61 2209.16 1076.61 2212.96 L1076.61 2227.61 L1072.33 2227.61 L1072.33 2212.1 Q1072.33 2208.35 1071.01 2206.57 Q1069.69 2204.76 1066.94 2204.76 Q1063.67 2204.76 1061.75 2206.99 Q1059.83 2209.19 1059.83 2212.96 L1059.83 2227.61 L1055.55 2227.61 L1055.55 2201.69 L1059.83 2201.69 L1059.83 2205.71 Q1061.29 2203.33 1063.33 2202.2 Q1065.36 2201.06 1068.16 2201.06 Q1070.99 2201.06 1072.96 2202.5 Q1074.95 2203.93 1075.9 2206.66 Z\" fill=\"#000000\" fill-rule=\"evenodd\" fill-opacity=\"1\" /><path clip-path=\"url(#clip500)\" d=\"M 0 0 M1112.89 2205.67 Q1112.17 2205.25 1111.31 2205.07 Q1110.48 2204.86 1109.46 2204.86 Q1105.85 2204.86 1103.91 2207.22 Q1101.98 2209.56 1101.98 2213.95 L1101.98 2227.61 L1097.7 2227.61 L1097.7 2201.69 L1101.98 2201.69 L1101.98 2205.71 Q1103.33 2203.35 1105.48 2202.22 Q1107.63 2201.06 1110.71 2201.06 Q1111.15 2201.06 1111.68 2201.13 Q1112.22 2201.18 1112.86 2201.29 L1112.89 2205.67 Z\" fill=\"#000000\" fill-rule=\"evenodd\" fill-opacity=\"1\" /><path clip-path=\"url(#clip500)\" d=\"M 0 0 M1138.49 2213.58 L1138.49 2215.67 L1118.91 2215.67 Q1119.18 2220.07 1121.54 2222.38 Q1123.93 2224.67 1128.16 2224.67 Q1130.62 2224.67 1132.91 2224.07 Q1135.22 2223.47 1137.49 2222.26 L1137.49 2226.29 Q1135.2 2227.26 1132.79 2227.77 Q1130.39 2228.28 1127.91 2228.28 Q1121.71 2228.28 1118.07 2224.67 Q1114.46 2221.06 1114.46 2214.9 Q1114.46 2208.54 1117.89 2204.81 Q1121.34 2201.06 1127.17 2201.06 Q1132.4 2201.06 1135.43 2204.44 Q1138.49 2207.8 1138.49 2213.58 M1134.23 2212.33 Q1134.18 2208.84 1132.26 2206.76 Q1130.36 2204.67 1127.22 2204.67 Q1123.65 2204.67 1121.5 2206.69 Q1119.37 2208.7 1119.04 2212.36 L1134.23 2212.33 Z\" fill=\"#000000\" fill-rule=\"evenodd\" fill-opacity=\"1\" /><path clip-path=\"url(#clip500)\" d=\"M 0 0 M1159.48 2202.45 L1159.48 2206.48 Q1157.68 2205.55 1155.73 2205.09 Q1153.79 2204.63 1151.71 2204.63 Q1148.53 2204.63 1146.94 2205.6 Q1145.36 2206.57 1145.36 2208.51 Q1145.36 2210 1146.5 2210.85 Q1147.63 2211.69 1151.06 2212.45 L1152.52 2212.77 Q1157.05 2213.75 1158.95 2215.53 Q1160.87 2217.29 1160.87 2220.46 Q1160.87 2224.07 1158 2226.18 Q1155.16 2228.28 1150.16 2228.28 Q1148.07 2228.28 1145.8 2227.87 Q1143.56 2227.47 1141.06 2226.66 L1141.06 2222.26 Q1143.42 2223.49 1145.71 2224.12 Q1148 2224.72 1150.25 2224.72 Q1153.26 2224.72 1154.88 2223.7 Q1156.5 2222.66 1156.5 2220.78 Q1156.5 2219.05 1155.32 2218.12 Q1154.16 2217.2 1150.2 2216.34 L1148.72 2215.99 Q1144.76 2215.16 1143 2213.45 Q1141.24 2211.71 1141.24 2208.7 Q1141.24 2205.04 1143.84 2203.05 Q1146.43 2201.06 1151.2 2201.06 Q1153.56 2201.06 1155.64 2201.41 Q1157.72 2201.76 1159.48 2202.45 Z\" fill=\"#000000\" fill-rule=\"evenodd\" fill-opacity=\"1\" /><path clip-path=\"url(#clip500)\" d=\"M 0 0 M1335.11 2202.68 L1335.11 2206.66 Q1333.31 2205.67 1331.48 2205.18 Q1329.67 2204.67 1327.82 2204.67 Q1323.68 2204.67 1321.39 2207.31 Q1319.09 2209.93 1319.09 2214.67 Q1319.09 2219.42 1321.39 2222.06 Q1323.68 2224.67 1327.82 2224.67 Q1329.67 2224.67 1331.48 2224.19 Q1333.31 2223.68 1335.11 2222.68 L1335.11 2226.62 Q1333.33 2227.45 1331.41 2227.87 Q1329.51 2228.28 1327.36 2228.28 Q1321.5 2228.28 1318.05 2224.6 Q1314.6 2220.92 1314.6 2214.67 Q1314.6 2208.33 1318.08 2204.7 Q1321.57 2201.06 1327.64 2201.06 Q1329.6 2201.06 1331.48 2201.48 Q1333.35 2201.87 1335.11 2202.68 Z\" fill=\"#000000\" fill-rule=\"evenodd\" fill-opacity=\"1\" /><path clip-path=\"url(#clip500)\" d=\"M 0 0 M1354.6 2205.67 Q1353.89 2205.25 1353.03 2205.07 Q1352.2 2204.86 1351.18 2204.86 Q1347.57 2204.86 1345.62 2207.22 Q1343.7 2209.56 1343.7 2213.95 L1343.7 2227.61 L1339.42 2227.61 L1339.42 2201.69 L1343.7 2201.69 L1343.7 2205.71 Q1345.04 2203.35 1347.2 2202.22 Q1349.35 2201.06 1352.43 2201.06 Q1352.87 2201.06 1353.4 2201.13 Q1353.93 2201.18 1354.58 2201.29 L1354.6 2205.67 Z\" fill=\"#000000\" fill-rule=\"evenodd\" fill-opacity=\"1\" /><path clip-path=\"url(#clip500)\" d=\"M 0 0 M1518.77 2194.32 L1518.77 2201.69 L1527.55 2201.69 L1527.55 2205 L1518.77 2205 L1518.77 2219.07 Q1518.77 2222.24 1519.63 2223.14 Q1520.51 2224.05 1523.17 2224.05 L1527.55 2224.05 L1527.55 2227.61 L1523.17 2227.61 Q1518.24 2227.61 1516.37 2225.78 Q1514.49 2223.93 1514.49 2219.07 L1514.49 2205 L1511.37 2205 L1511.37 2201.69 L1514.49 2201.69 L1514.49 2194.32 L1518.77 2194.32 Z\" fill=\"#000000\" fill-rule=\"evenodd\" fill-opacity=\"1\" /><path clip-path=\"url(#clip500)\" d=\"M 0 0 M1550.67 2202.68 L1550.67 2206.66 Q1548.87 2205.67 1547.04 2205.18 Q1545.23 2204.67 1543.38 2204.67 Q1539.24 2204.67 1536.94 2207.31 Q1534.65 2209.93 1534.65 2214.67 Q1534.65 2219.42 1536.94 2222.06 Q1539.24 2224.67 1543.38 2224.67 Q1545.23 2224.67 1547.04 2224.19 Q1548.87 2223.68 1550.67 2222.68 L1550.67 2226.62 Q1548.89 2227.45 1546.97 2227.87 Q1545.07 2228.28 1542.92 2228.28 Q1537.06 2228.28 1533.61 2224.6 Q1530.16 2220.92 1530.16 2214.67 Q1530.16 2208.33 1533.63 2204.7 Q1537.13 2201.06 1543.19 2201.06 Q1545.16 2201.06 1547.04 2201.48 Q1548.91 2201.87 1550.67 2202.68 Z\" fill=\"#000000\" fill-rule=\"evenodd\" fill-opacity=\"1\" /><path clip-path=\"url(#clip500)\" d=\"M 0 0 M1557.68 2214.67 Q1557.68 2219.37 1559.61 2222.06 Q1561.55 2224.72 1564.93 2224.72 Q1568.31 2224.72 1570.25 2222.06 Q1572.2 2219.37 1572.2 2214.67 Q1572.2 2209.97 1570.25 2207.31 Q1568.31 2204.63 1564.93 2204.63 Q1561.55 2204.63 1559.61 2207.31 Q1557.68 2209.97 1557.68 2214.67 M1572.2 2223.72 Q1570.86 2226.04 1568.8 2227.17 Q1566.76 2228.28 1563.89 2228.28 Q1559.19 2228.28 1556.23 2224.53 Q1553.29 2220.78 1553.29 2214.67 Q1553.29 2208.56 1556.23 2204.81 Q1559.19 2201.06 1563.89 2201.06 Q1566.76 2201.06 1568.8 2202.2 Q1570.86 2203.31 1572.2 2205.62 L1572.2 2201.69 L1576.46 2201.69 L1576.46 2237.47 L1572.2 2237.47 L1572.2 2223.72 Z\" fill=\"#000000\" fill-rule=\"evenodd\" fill-opacity=\"1\" /><path clip-path=\"url(#clip500)\" d=\"M 0 0 M1601.11 2206.66 Q1602.71 2203.79 1604.93 2202.43 Q1607.15 2201.06 1610.16 2201.06 Q1614.21 2201.06 1616.41 2203.91 Q1618.61 2206.73 1618.61 2211.96 L1618.61 2227.61 L1614.33 2227.61 L1614.33 2212.1 Q1614.33 2208.38 1613.01 2206.57 Q1611.69 2204.76 1608.98 2204.76 Q1605.67 2204.76 1603.75 2206.96 Q1601.83 2209.16 1601.83 2212.96 L1601.83 2227.61 L1597.55 2227.61 L1597.55 2212.1 Q1597.55 2208.35 1596.23 2206.57 Q1594.91 2204.76 1592.15 2204.76 Q1588.89 2204.76 1586.97 2206.99 Q1585.05 2209.19 1585.05 2212.96 L1585.05 2227.61 L1580.76 2227.61 L1580.76 2201.69 L1585.05 2201.69 L1585.05 2205.71 Q1586.5 2203.33 1588.54 2202.2 Q1590.58 2201.06 1593.38 2201.06 Q1596.2 2201.06 1598.17 2202.5 Q1600.16 2203.93 1601.11 2206.66 Z\" fill=\"#000000\" fill-rule=\"evenodd\" fill-opacity=\"1\" /><path clip-path=\"url(#clip500)\" d=\"M 0 0 M1638.1 2205.67 Q1637.38 2205.25 1636.53 2205.07 Q1635.69 2204.86 1634.68 2204.86 Q1631.06 2204.86 1629.12 2207.22 Q1627.2 2209.56 1627.2 2213.95 L1627.2 2227.61 L1622.92 2227.61 L1622.92 2201.69 L1627.2 2201.69 L1627.2 2205.71 Q1628.54 2203.35 1630.69 2202.22 Q1632.85 2201.06 1635.93 2201.06 Q1636.36 2201.06 1636.9 2201.13 Q1637.43 2201.18 1638.08 2201.29 L1638.1 2205.67 Z\" fill=\"#000000\" fill-rule=\"evenodd\" fill-opacity=\"1\" /><path clip-path=\"url(#clip500)\" d=\"M 0 0 M1786.39 2214.67 Q1786.39 2209.97 1784.45 2207.31 Q1782.53 2204.63 1779.15 2204.63 Q1775.77 2204.63 1773.82 2207.31 Q1771.9 2209.97 1771.9 2214.67 Q1771.9 2219.37 1773.82 2222.06 Q1775.77 2224.72 1779.15 2224.72 Q1782.53 2224.72 1784.45 2222.06 Q1786.39 2219.37 1786.39 2214.67 M1771.9 2205.62 Q1773.24 2203.31 1775.28 2202.2 Q1777.34 2201.06 1780.19 2201.06 Q1784.91 2201.06 1787.85 2204.81 Q1790.81 2208.56 1790.81 2214.67 Q1790.81 2220.78 1787.85 2224.53 Q1784.91 2228.28 1780.19 2228.28 Q1777.34 2228.28 1775.28 2227.17 Q1773.24 2226.04 1771.9 2223.72 L1771.9 2227.61 L1767.62 2227.61 L1767.62 2191.59 L1771.9 2191.59 L1771.9 2205.62 Z\" fill=\"#000000\" fill-rule=\"evenodd\" fill-opacity=\"1\" /><path clip-path=\"url(#clip500)\" d=\"M 0 0 M1813.94 2202.68 L1813.94 2206.66 Q1812.13 2205.67 1810.3 2205.18 Q1808.5 2204.67 1806.65 2204.67 Q1802.5 2204.67 1800.21 2207.31 Q1797.92 2209.93 1797.92 2214.67 Q1797.92 2219.42 1800.21 2222.06 Q1802.5 2224.67 1806.65 2224.67 Q1808.5 2224.67 1810.3 2224.19 Q1812.13 2223.68 1813.94 2222.68 L1813.94 2226.62 Q1812.16 2227.45 1810.23 2227.87 Q1808.34 2228.28 1806.18 2228.28 Q1800.33 2228.28 1796.88 2224.6 Q1793.43 2220.92 1793.43 2214.67 Q1793.43 2208.33 1796.9 2204.7 Q1800.4 2201.06 1806.46 2201.06 Q1808.43 2201.06 1810.3 2201.48 Q1812.18 2201.87 1813.94 2202.68 Z\" fill=\"#000000\" fill-rule=\"evenodd\" fill-opacity=\"1\" /><path clip-path=\"url(#clip500)\" d=\"M 0 0 M1835.47 2214.35 Q1835.47 2209.72 1833.54 2207.17 Q1831.65 2204.63 1828.2 2204.63 Q1824.77 2204.63 1822.85 2207.17 Q1820.95 2209.72 1820.95 2214.35 Q1820.95 2218.95 1822.85 2221.5 Q1824.77 2224.05 1828.2 2224.05 Q1831.65 2224.05 1833.54 2221.5 Q1835.47 2218.95 1835.47 2214.35 M1839.72 2224.39 Q1839.72 2231.01 1836.78 2234.23 Q1833.85 2237.47 1827.78 2237.47 Q1825.54 2237.47 1823.54 2237.13 Q1821.55 2236.8 1819.68 2236.11 L1819.68 2231.96 Q1821.55 2232.98 1823.38 2233.47 Q1825.21 2233.95 1827.11 2233.95 Q1831.3 2233.95 1833.38 2231.76 Q1835.47 2229.58 1835.47 2225.16 L1835.47 2223.05 Q1834.15 2225.34 1832.09 2226.48 Q1830.03 2227.61 1827.16 2227.61 Q1822.39 2227.61 1819.47 2223.98 Q1816.55 2220.34 1816.55 2214.35 Q1816.55 2208.33 1819.47 2204.7 Q1822.39 2201.06 1827.16 2201.06 Q1830.03 2201.06 1832.09 2202.2 Q1834.15 2203.33 1835.47 2205.62 L1835.47 2201.69 L1839.72 2201.69 L1839.72 2224.39 Z\" fill=\"#000000\" fill-rule=\"evenodd\" fill-opacity=\"1\" /><path clip-path=\"url(#clip500)\" d=\"M 0 0 M1860.72 2202.45 L1860.72 2206.48 Q1858.91 2205.55 1856.97 2205.09 Q1855.03 2204.63 1852.94 2204.63 Q1849.77 2204.63 1848.17 2205.6 Q1846.6 2206.57 1846.6 2208.51 Q1846.6 2210 1847.73 2210.85 Q1848.87 2211.69 1852.29 2212.45 L1853.75 2212.77 Q1858.29 2213.75 1860.19 2215.53 Q1862.11 2217.29 1862.11 2220.46 Q1862.11 2224.07 1859.24 2226.18 Q1856.39 2228.28 1851.39 2228.28 Q1849.31 2228.28 1847.04 2227.87 Q1844.79 2227.47 1842.29 2226.66 L1842.29 2222.26 Q1844.66 2223.49 1846.95 2224.12 Q1849.24 2224.72 1851.48 2224.72 Q1854.49 2224.72 1856.11 2223.7 Q1857.73 2222.66 1857.73 2220.78 Q1857.73 2219.05 1856.55 2218.12 Q1855.4 2217.2 1851.44 2216.34 L1849.96 2215.99 Q1846 2215.16 1844.24 2213.45 Q1842.48 2211.71 1842.48 2208.7 Q1842.48 2205.04 1845.07 2203.05 Q1847.66 2201.06 1852.43 2201.06 Q1854.79 2201.06 1856.88 2201.41 Q1858.96 2201.76 1860.72 2202.45 Z\" fill=\"#000000\" fill-rule=\"evenodd\" fill-opacity=\"1\" /><path clip-path=\"url(#clip500)\" d=\"M 0 0 M2052.36 2202.68 L2052.36 2206.66 Q2050.55 2205.67 2048.72 2205.18 Q2046.92 2204.67 2045.06 2204.67 Q2040.92 2204.67 2038.63 2207.31 Q2036.34 2209.93 2036.34 2214.67 Q2036.34 2219.42 2038.63 2222.06 Q2040.92 2224.67 2045.06 2224.67 Q2046.92 2224.67 2048.72 2224.19 Q2050.55 2223.68 2052.36 2222.68 L2052.36 2226.62 Q2050.57 2227.45 2048.65 2227.87 Q2046.75 2228.28 2044.6 2228.28 Q2038.74 2228.28 2035.3 2224.6 Q2031.85 2220.92 2031.85 2214.67 Q2031.85 2208.33 2035.32 2204.7 Q2038.81 2201.06 2044.88 2201.06 Q2046.85 2201.06 2048.72 2201.48 Q2050.6 2201.87 2052.36 2202.68 Z\" fill=\"#000000\" fill-rule=\"evenodd\" fill-opacity=\"1\" /><path clip-path=\"url(#clip500)\" d=\"M 0 0 M2073.88 2214.35 Q2073.88 2209.72 2071.96 2207.17 Q2070.06 2204.63 2066.61 2204.63 Q2063.19 2204.63 2061.27 2207.17 Q2059.37 2209.72 2059.37 2214.35 Q2059.37 2218.95 2061.27 2221.5 Q2063.19 2224.05 2066.61 2224.05 Q2070.06 2224.05 2071.96 2221.5 Q2073.88 2218.95 2073.88 2214.35 M2078.14 2224.39 Q2078.14 2231.01 2075.2 2234.23 Q2072.26 2237.47 2066.2 2237.47 Q2063.95 2237.47 2061.96 2237.13 Q2059.97 2236.8 2058.1 2236.11 L2058.1 2231.96 Q2059.97 2232.98 2061.8 2233.47 Q2063.63 2233.95 2065.53 2233.95 Q2069.72 2233.95 2071.8 2231.76 Q2073.88 2229.58 2073.88 2225.16 L2073.88 2223.05 Q2072.56 2225.34 2070.5 2226.48 Q2068.44 2227.61 2065.57 2227.61 Q2060.8 2227.61 2057.89 2223.98 Q2054.97 2220.34 2054.97 2214.35 Q2054.97 2208.33 2057.89 2204.7 Q2060.8 2201.06 2065.57 2201.06 Q2068.44 2201.06 2070.5 2202.2 Q2072.56 2203.33 2073.88 2205.62 L2073.88 2201.69 L2078.14 2201.69 L2078.14 2224.39 Z\" fill=\"#000000\" fill-rule=\"evenodd\" fill-opacity=\"1\" /><path clip-path=\"url(#clip500)\" d=\"M 0 0 M2278.92 2191.59 L2278.92 2195.14 L2274.85 2195.14 Q2272.56 2195.14 2271.65 2196.06 Q2270.77 2196.99 2270.77 2199.39 L2270.77 2201.69 L2277.79 2201.69 L2277.79 2205 L2270.77 2205 L2270.77 2227.61 L2266.49 2227.61 L2266.49 2205 L2262.42 2205 L2262.42 2201.69 L2266.49 2201.69 L2266.49 2199.88 Q2266.49 2195.55 2268.5 2193.58 Q2270.52 2191.59 2274.89 2191.59 L2278.92 2191.59 Z\" fill=\"#000000\" fill-rule=\"evenodd\" fill-opacity=\"1\" /><path clip-path=\"url(#clip500)\" d=\"M 0 0 M2302.05 2202.68 L2302.05 2206.66 Q2300.24 2205.67 2298.41 2205.18 Q2296.61 2204.67 2294.75 2204.67 Q2290.61 2204.67 2288.32 2207.31 Q2286.03 2209.93 2286.03 2214.67 Q2286.03 2219.42 2288.32 2222.06 Q2290.61 2224.67 2294.75 2224.67 Q2296.61 2224.67 2298.41 2224.19 Q2300.24 2223.68 2302.05 2222.68 L2302.05 2226.62 Q2300.26 2227.45 2298.34 2227.87 Q2296.44 2228.28 2294.29 2228.28 Q2288.43 2228.28 2284.99 2224.6 Q2281.54 2220.92 2281.54 2214.67 Q2281.54 2208.33 2285.01 2204.7 Q2288.5 2201.06 2294.57 2201.06 Q2296.54 2201.06 2298.41 2201.48 Q2300.29 2201.87 2302.05 2202.68 Z\" fill=\"#000000\" fill-rule=\"evenodd\" fill-opacity=\"1\" /><path clip-path=\"url(#clip500)\" d=\"M 0 0 M2323.57 2214.35 Q2323.57 2209.72 2321.65 2207.17 Q2319.75 2204.63 2316.31 2204.63 Q2312.88 2204.63 2310.96 2207.17 Q2309.06 2209.72 2309.06 2214.35 Q2309.06 2218.95 2310.96 2221.5 Q2312.88 2224.05 2316.31 2224.05 Q2319.75 2224.05 2321.65 2221.5 Q2323.57 2218.95 2323.57 2214.35 M2327.83 2224.39 Q2327.83 2231.01 2324.89 2234.23 Q2321.95 2237.47 2315.89 2237.47 Q2313.64 2237.47 2311.65 2237.13 Q2309.66 2236.8 2307.79 2236.11 L2307.79 2231.96 Q2309.66 2232.98 2311.49 2233.47 Q2313.32 2233.95 2315.22 2233.95 Q2319.41 2233.95 2321.49 2231.76 Q2323.57 2229.58 2323.57 2225.16 L2323.57 2223.05 Q2322.25 2225.34 2320.19 2226.48 Q2318.13 2227.61 2315.26 2227.61 Q2310.49 2227.61 2307.58 2223.98 Q2304.66 2220.34 2304.66 2214.35 Q2304.66 2208.33 2307.58 2204.7 Q2310.49 2201.06 2315.26 2201.06 Q2318.13 2201.06 2320.19 2202.2 Q2322.25 2203.33 2323.57 2205.62 L2323.57 2201.69 L2327.83 2201.69 L2327.83 2224.39 Z\" fill=\"#000000\" fill-rule=\"evenodd\" fill-opacity=\"1\" /><path clip-path=\"url(#clip500)\" d=\"M 0 0 M245.159 2109.08 L245.159 2113.1 Q243.353 2112.18 241.409 2111.71 Q239.464 2111.25 237.381 2111.25 Q234.21 2111.25 232.612 2112.22 Q231.038 2113.2 231.038 2115.14 Q231.038 2116.62 232.172 2117.48 Q233.307 2118.31 236.733 2119.08 L238.191 2119.4 Q242.728 2120.37 244.626 2122.15 Q246.547 2123.91 246.547 2127.09 Q246.547 2130.7 243.677 2132.8 Q240.83 2134.91 235.83 2134.91 Q233.747 2134.91 231.478 2134.49 Q229.233 2134.1 226.733 2133.29 L226.733 2128.89 Q229.094 2130.12 231.385 2130.74 Q233.677 2131.34 235.922 2131.34 Q238.932 2131.34 240.552 2130.33 Q242.172 2129.28 242.172 2127.41 Q242.172 2125.67 240.992 2124.75 Q239.834 2123.82 235.876 2122.96 L234.395 2122.62 Q230.436 2121.78 228.677 2120.07 Q226.918 2118.34 226.918 2115.33 Q226.918 2111.67 229.51 2109.68 Q232.103 2107.69 236.872 2107.69 Q239.233 2107.69 241.316 2108.03 Q243.399 2108.38 245.159 2109.08 Z\" fill=\"#000000\" fill-rule=\"evenodd\" fill-opacity=\"1\" /><path clip-path=\"url(#clip500)\" d=\"M 0 0 M261.061 2111.3 Q257.635 2111.3 255.645 2113.98 Q253.654 2116.65 253.654 2121.3 Q253.654 2125.95 255.621 2128.64 Q257.612 2131.3 261.061 2131.3 Q264.464 2131.3 266.455 2128.61 Q268.445 2125.93 268.445 2121.3 Q268.445 2116.69 266.455 2114.01 Q264.464 2111.3 261.061 2111.3 M261.061 2107.69 Q266.617 2107.69 269.788 2111.3 Q272.959 2114.91 272.959 2121.3 Q272.959 2127.66 269.788 2131.3 Q266.617 2134.91 261.061 2134.91 Q255.483 2134.91 252.311 2131.3 Q249.163 2127.66 249.163 2121.3 Q249.163 2114.91 252.311 2111.3 Q255.483 2107.69 261.061 2107.69 Z\" fill=\"#000000\" fill-rule=\"evenodd\" fill-opacity=\"1\" /><path clip-path=\"url(#clip500)\" d=\"M 0 0 M292.45 2112.29 Q291.732 2111.88 290.876 2111.69 Q290.043 2111.48 289.024 2111.48 Q285.413 2111.48 283.469 2113.84 Q281.547 2116.18 281.547 2120.58 L281.547 2134.24 L277.265 2134.24 L277.265 2108.31 L281.547 2108.31 L281.547 2112.34 Q282.89 2109.98 285.043 2108.84 Q287.195 2107.69 290.274 2107.69 Q290.714 2107.69 291.246 2107.76 Q291.779 2107.8 292.427 2107.92 L292.45 2112.29 Z\" fill=\"#000000\" fill-rule=\"evenodd\" fill-opacity=\"1\" /><path clip-path=\"url(#clip500)\" d=\"M 0 0 M249.163 1477.93 Q250.76 1475.06 252.983 1473.7 Q255.205 1472.33 258.214 1472.33 Q262.265 1472.33 264.464 1475.18 Q266.663 1478 266.663 1483.24 L266.663 1498.88 L262.381 1498.88 L262.381 1483.37 Q262.381 1479.65 261.061 1477.84 Q259.742 1476.04 257.033 1476.04 Q253.723 1476.04 251.802 1478.24 Q249.881 1480.43 249.881 1484.23 L249.881 1498.88 L245.598 1498.88 L245.598 1483.37 Q245.598 1479.62 244.279 1477.84 Q242.959 1476.04 240.205 1476.04 Q236.941 1476.04 235.02 1478.26 Q233.098 1480.46 233.098 1484.23 L233.098 1498.88 L228.816 1498.88 L228.816 1472.96 L233.098 1472.96 L233.098 1476.99 Q234.557 1474.6 236.594 1473.47 Q238.631 1472.33 241.432 1472.33 Q244.256 1472.33 246.223 1473.77 Q248.214 1475.2 249.163 1477.93 Z\" fill=\"#000000\" fill-rule=\"evenodd\" fill-opacity=\"1\" /><path clip-path=\"url(#clip500)\" d=\"M 0 0 M288.191 1485.62 Q288.191 1480.99 286.269 1478.44 Q284.371 1475.9 280.922 1475.9 Q277.496 1475.9 275.575 1478.44 Q273.677 1480.99 273.677 1485.62 Q273.677 1490.23 275.575 1492.77 Q277.496 1495.32 280.922 1495.32 Q284.371 1495.32 286.269 1492.77 Q288.191 1490.23 288.191 1485.62 M292.45 1495.67 Q292.45 1502.29 289.51 1505.5 Q286.57 1508.74 280.506 1508.74 Q278.26 1508.74 276.269 1508.4 Q274.279 1508.07 272.404 1507.38 L272.404 1503.24 Q274.279 1504.25 276.107 1504.74 Q277.936 1505.23 279.834 1505.23 Q284.024 1505.23 286.107 1503.03 Q288.191 1500.85 288.191 1496.43 L288.191 1494.32 Q286.871 1496.61 284.811 1497.75 Q282.751 1498.88 279.881 1498.88 Q275.112 1498.88 272.195 1495.25 Q269.279 1491.61 269.279 1485.62 Q269.279 1479.6 272.195 1475.97 Q275.112 1472.33 279.881 1472.33 Q282.751 1472.33 284.811 1473.47 Q286.871 1474.6 288.191 1476.89 L288.191 1472.96 L292.45 1472.96 L292.45 1495.67 Z\" fill=\"#000000\" fill-rule=\"evenodd\" fill-opacity=\"1\" /><path clip-path=\"url(#clip500)\" d=\"M 0 0 M168.793 850.589 Q168.793 845.89 166.849 843.228 Q164.927 840.543 161.548 840.543 Q158.168 840.543 156.224 843.228 Q154.303 845.89 154.303 850.589 Q154.303 855.288 156.224 857.973 Q158.168 860.635 161.548 860.635 Q164.927 860.635 166.849 857.973 Q168.793 855.288 168.793 850.589 M154.303 841.538 Q155.645 839.223 157.682 838.112 Q159.742 836.978 162.59 836.978 Q167.312 836.978 170.252 840.728 Q173.214 844.478 173.214 850.589 Q173.214 856.7 170.252 860.45 Q167.312 864.2 162.59 864.2 Q159.742 864.2 157.682 863.089 Q155.645 861.955 154.303 859.64 L154.303 863.529 L150.02 863.529 L150.02 827.51 L154.303 827.51 L154.303 841.538 Z\" fill=\"#000000\" fill-rule=\"evenodd\" fill-opacity=\"1\" /><path clip-path=\"url(#clip500)\" d=\"M 0 0 M177.682 837.603 L181.941 837.603 L181.941 863.992 Q181.941 868.945 180.043 871.168 Q178.168 873.39 173.978 873.39 L172.358 873.39 L172.358 869.779 L173.492 869.779 Q175.923 869.779 176.802 868.644 Q177.682 867.533 177.682 863.992 L177.682 837.603 M177.682 827.51 L181.941 827.51 L181.941 832.904 L177.682 832.904 L177.682 827.51 Z\" fill=\"#000000\" fill-rule=\"evenodd\" fill-opacity=\"1\" /><path clip-path=\"url(#clip500)\" d=\"M 0 0 M198.191 850.496 Q193.029 850.496 191.038 851.677 Q189.048 852.857 189.048 855.705 Q189.048 857.973 190.529 859.316 Q192.034 860.635 194.603 860.635 Q198.145 860.635 200.275 858.135 Q202.427 855.612 202.427 851.445 L202.427 850.496 L198.191 850.496 M206.687 848.737 L206.687 863.529 L202.427 863.529 L202.427 859.594 Q200.969 861.955 198.793 863.089 Q196.617 864.2 193.469 864.2 Q189.488 864.2 187.126 861.978 Q184.788 859.732 184.788 855.982 Q184.788 851.607 187.705 849.385 Q190.645 847.163 196.455 847.163 L202.427 847.163 L202.427 846.746 Q202.427 843.807 200.483 842.209 Q198.562 840.589 195.066 840.589 Q192.844 840.589 190.738 841.121 Q188.631 841.654 186.687 842.719 L186.687 838.783 Q189.025 837.881 191.224 837.441 Q193.423 836.978 195.506 836.978 Q201.131 836.978 203.909 839.895 Q206.687 842.811 206.687 848.737 Z\" fill=\"#000000\" fill-rule=\"evenodd\" fill-opacity=\"1\" /><path clip-path=\"url(#clip500)\" d=\"M 0 0 M229.811 838.598 L229.811 842.58 Q228.006 841.584 226.177 841.098 Q224.372 840.589 222.52 840.589 Q218.376 840.589 216.085 843.228 Q213.793 845.844 213.793 850.589 Q213.793 855.334 216.085 857.973 Q218.376 860.589 222.52 860.589 Q224.372 860.589 226.177 860.103 Q228.006 859.594 229.811 858.598 L229.811 862.533 Q228.029 863.367 226.108 863.783 Q224.21 864.2 222.057 864.2 Q216.2 864.2 212.751 860.519 Q209.302 856.839 209.302 850.589 Q209.302 844.246 212.774 840.612 Q216.27 836.978 222.335 836.978 Q224.302 836.978 226.177 837.395 Q228.052 837.788 229.811 838.598 Z\" fill=\"#000000\" fill-rule=\"evenodd\" fill-opacity=\"1\" /><path clip-path=\"url(#clip500)\" d=\"M 0 0 M244.325 840.589 Q240.899 840.589 238.909 843.274 Q236.918 845.936 236.918 850.589 Q236.918 855.242 238.885 857.927 Q240.876 860.589 244.325 860.589 Q247.728 860.589 249.719 857.904 Q251.709 855.219 251.709 850.589 Q251.709 845.982 249.719 843.297 Q247.728 840.589 244.325 840.589 M244.325 836.978 Q249.881 836.978 253.052 840.589 Q256.223 844.2 256.223 850.589 Q256.223 856.955 253.052 860.589 Q249.881 864.2 244.325 864.2 Q238.747 864.2 235.575 860.589 Q232.427 856.955 232.427 850.589 Q232.427 844.2 235.575 840.589 Q238.747 836.978 244.325 836.978 Z\" fill=\"#000000\" fill-rule=\"evenodd\" fill-opacity=\"1\" /><path clip-path=\"url(#clip500)\" d=\"M 0 0 M279.302 850.589 Q279.302 845.89 277.357 843.228 Q275.436 840.543 272.057 840.543 Q268.677 840.543 266.732 843.228 Q264.811 845.89 264.811 850.589 Q264.811 855.288 266.732 857.973 Q268.677 860.635 272.057 860.635 Q275.436 860.635 277.357 857.973 Q279.302 855.288 279.302 850.589 M264.811 841.538 Q266.154 839.223 268.191 838.112 Q270.251 836.978 273.098 836.978 Q277.82 836.978 280.76 840.728 Q283.723 844.478 283.723 850.589 Q283.723 856.7 280.76 860.45 Q277.82 864.2 273.098 864.2 Q270.251 864.2 268.191 863.089 Q266.154 861.955 264.811 859.64 L264.811 863.529 L260.529 863.529 L260.529 827.51 L264.811 827.51 L264.811 841.538 Z\" fill=\"#000000\" fill-rule=\"evenodd\" fill-opacity=\"1\" /><path clip-path=\"url(#clip500)\" d=\"M 0 0 M288.191 837.603 L292.45 837.603 L292.45 863.529 L288.191 863.529 L288.191 837.603 M288.191 827.51 L292.45 827.51 L292.45 832.904 L288.191 832.904 L288.191 827.51 Z\" fill=\"#000000\" fill-rule=\"evenodd\" fill-opacity=\"1\" /><path clip-path=\"url(#clip500)\" d=\"M 0 0 M177.682 202.248 L181.941 202.248 L181.941 228.637 Q181.941 233.591 180.043 235.813 Q178.168 238.035 173.978 238.035 L172.358 238.035 L172.358 234.424 L173.492 234.424 Q175.923 234.424 176.802 233.29 Q177.682 232.179 177.682 228.637 L177.682 202.248 M177.682 192.156 L181.941 192.156 L181.941 197.549 L177.682 197.549 L177.682 192.156 Z\" fill=\"#000000\" fill-rule=\"evenodd\" fill-opacity=\"1\" /><path clip-path=\"url(#clip500)\" d=\"M 0 0 M198.191 215.142 Q193.029 215.142 191.038 216.322 Q189.048 217.503 189.048 220.35 Q189.048 222.619 190.529 223.961 Q192.034 225.281 194.603 225.281 Q198.145 225.281 200.275 222.781 Q202.427 220.257 202.427 216.091 L202.427 215.142 L198.191 215.142 M206.687 213.382 L206.687 228.174 L202.427 228.174 L202.427 224.239 Q200.969 226.6 198.793 227.734 Q196.617 228.845 193.469 228.845 Q189.488 228.845 187.126 226.623 Q184.788 224.378 184.788 220.628 Q184.788 216.253 187.705 214.031 Q190.645 211.808 196.455 211.808 L202.427 211.808 L202.427 211.392 Q202.427 208.452 200.483 206.855 Q198.562 205.234 195.066 205.234 Q192.844 205.234 190.738 205.767 Q188.631 206.299 186.687 207.364 L186.687 203.429 Q189.025 202.526 191.224 202.086 Q193.423 201.623 195.506 201.623 Q201.131 201.623 203.909 204.54 Q206.687 207.457 206.687 213.382 Z\" fill=\"#000000\" fill-rule=\"evenodd\" fill-opacity=\"1\" /><path clip-path=\"url(#clip500)\" d=\"M 0 0 M229.811 203.244 L229.811 207.225 Q228.006 206.23 226.177 205.744 Q224.372 205.234 222.52 205.234 Q218.376 205.234 216.085 207.873 Q213.793 210.489 213.793 215.234 Q213.793 219.98 216.085 222.619 Q218.376 225.234 222.52 225.234 Q224.372 225.234 226.177 224.748 Q228.006 224.239 229.811 223.244 L229.811 227.179 Q228.029 228.012 226.108 228.429 Q224.21 228.845 222.057 228.845 Q216.2 228.845 212.751 225.165 Q209.302 221.484 209.302 215.234 Q209.302 208.892 212.774 205.257 Q216.27 201.623 222.335 201.623 Q224.302 201.623 226.177 202.04 Q228.052 202.433 229.811 203.244 Z\" fill=\"#000000\" fill-rule=\"evenodd\" fill-opacity=\"1\" /><path clip-path=\"url(#clip500)\" d=\"M 0 0 M244.325 205.234 Q240.899 205.234 238.909 207.92 Q236.918 210.582 236.918 215.234 Q236.918 219.887 238.885 222.572 Q240.876 225.234 244.325 225.234 Q247.728 225.234 249.719 222.549 Q251.709 219.864 251.709 215.234 Q251.709 210.628 249.719 207.943 Q247.728 205.234 244.325 205.234 M244.325 201.623 Q249.881 201.623 253.052 205.234 Q256.223 208.845 256.223 215.234 Q256.223 221.6 253.052 225.234 Q249.881 228.845 244.325 228.845 Q238.747 228.845 235.575 225.234 Q232.427 221.6 232.427 215.234 Q232.427 208.845 235.575 205.234 Q238.747 201.623 244.325 201.623 Z\" fill=\"#000000\" fill-rule=\"evenodd\" fill-opacity=\"1\" /><path clip-path=\"url(#clip500)\" d=\"M 0 0 M279.302 215.234 Q279.302 210.535 277.357 207.873 Q275.436 205.188 272.057 205.188 Q268.677 205.188 266.732 207.873 Q264.811 210.535 264.811 215.234 Q264.811 219.933 266.732 222.619 Q268.677 225.281 272.057 225.281 Q275.436 225.281 277.357 222.619 Q279.302 219.933 279.302 215.234 M264.811 206.183 Q266.154 203.869 268.191 202.758 Q270.251 201.623 273.098 201.623 Q277.82 201.623 280.76 205.373 Q283.723 209.123 283.723 215.234 Q283.723 221.345 280.76 225.095 Q277.82 228.845 273.098 228.845 Q270.251 228.845 268.191 227.734 Q266.154 226.6 264.811 224.285 L264.811 228.174 L260.529 228.174 L260.529 192.156 L264.811 192.156 L264.811 206.183 Z\" fill=\"#000000\" fill-rule=\"evenodd\" fill-opacity=\"1\" /><path clip-path=\"url(#clip500)\" d=\"M 0 0 M288.191 202.248 L292.45 202.248 L292.45 228.174 L288.191 228.174 L288.191 202.248 M288.191 192.156 L292.45 192.156 L292.45 197.549 L288.191 197.549 L288.191 192.156 Z\" fill=\"#000000\" fill-rule=\"evenodd\" fill-opacity=\"1\" /><path clip-path=\"url(#clip500)\" d=\"M 0 0 M788.663 17.6457 Q779.751 17.6457 774.484 24.2892 Q769.259 30.9327 769.259 42.3968 Q769.259 53.8203 774.484 60.4638 Q779.751 67.1073 788.663 67.1073 Q797.575 67.1073 802.76 60.4638 Q807.985 53.8203 807.985 42.3968 Q807.985 30.9327 802.76 24.2892 Q797.575 17.6457 788.663 17.6457 M788.663 11.0023 Q801.382 11.0023 808.998 19.5497 Q816.614 28.0566 816.614 42.3968 Q816.614 56.6965 808.998 65.2439 Q801.382 73.7508 788.663 73.7508 Q775.902 73.7508 768.246 65.2439 Q760.63 56.737 760.63 42.3968 Q760.63 28.0566 768.246 19.5497 Q775.902 11.0023 788.663 11.0023 Z\" fill=\"#000000\" fill-rule=\"evenodd\" fill-opacity=\"1\" /><path clip-path=\"url(#clip500)\" d=\"M 0 0 M831.643 65.7705 L831.643 89.8329 L824.148 89.8329 L824.148 27.2059 L831.643 27.2059 L831.643 34.0924 Q833.992 30.0415 837.557 28.0971 Q841.162 26.1121 846.145 26.1121 Q854.409 26.1121 859.553 32.6746 Q864.739 39.2371 864.739 49.9314 Q864.739 60.6258 859.553 67.1883 Q854.409 73.7508 846.145 73.7508 Q841.162 73.7508 837.557 71.8063 Q833.992 69.8214 831.643 65.7705 M857.001 49.9314 Q857.001 41.7081 853.599 37.0496 Q850.236 32.3505 844.322 32.3505 Q838.408 32.3505 835.005 37.0496 Q831.643 41.7081 831.643 49.9314 Q831.643 58.1548 835.005 62.8538 Q838.408 67.5124 844.322 67.5124 Q850.236 67.5124 853.599 62.8538 Q857.001 58.1548 857.001 49.9314 Z\" fill=\"#000000\" fill-rule=\"evenodd\" fill-opacity=\"1\" /><path clip-path=\"url(#clip500)\" d=\"M 0 0 M879.929 14.324 L879.929 27.2059 L895.282 27.2059 L895.282 32.9987 L879.929 32.9987 L879.929 57.6282 Q879.929 63.1779 881.428 64.7578 Q882.968 66.3376 887.626 66.3376 L895.282 66.3376 L895.282 72.576 L887.626 72.576 Q878.998 72.576 875.716 69.3758 Q872.435 66.1351 872.435 57.6282 L872.435 32.9987 L866.967 32.9987 L866.967 27.2059 L872.435 27.2059 L872.435 14.324 L879.929 14.324 Z\" fill=\"#000000\" fill-rule=\"evenodd\" fill-opacity=\"1\" /><path clip-path=\"url(#clip500)\" d=\"M 0 0 M903.101 27.2059 L910.554 27.2059 L910.554 72.576 L903.101 72.576 L903.101 27.2059 M903.101 9.54393 L910.554 9.54393 L910.554 18.9825 L903.101 18.9825 L903.101 9.54393 Z\" fill=\"#000000\" fill-rule=\"evenodd\" fill-opacity=\"1\" /><path clip-path=\"url(#clip500)\" d=\"M 0 0 M953.696 35.9153 Q956.492 30.8922 960.38 28.5022 Q964.269 26.1121 969.535 26.1121 Q976.625 26.1121 980.473 31.0947 Q984.321 36.0368 984.321 45.1919 L984.321 72.576 L976.827 72.576 L976.827 45.4349 Q976.827 38.913 974.518 35.7533 Q972.209 32.5936 967.469 32.5936 Q961.677 32.5936 958.314 36.4419 Q954.952 40.2903 954.952 46.9338 L954.952 72.576 L947.458 72.576 L947.458 45.4349 Q947.458 38.8725 945.149 35.7533 Q942.84 32.5936 938.019 32.5936 Q932.308 32.5936 928.945 36.4824 Q925.583 40.3308 925.583 46.9338 L925.583 72.576 L918.089 72.576 L918.089 27.2059 L925.583 27.2059 L925.583 34.2544 Q928.135 30.082 931.7 28.0971 Q935.265 26.1121 940.166 26.1121 Q945.108 26.1121 948.552 28.6237 Q952.036 31.1352 953.696 35.9153 Z\" fill=\"#000000\" fill-rule=\"evenodd\" fill-opacity=\"1\" /><path clip-path=\"url(#clip500)\" d=\"M 0 0 M1012.76 49.7694 Q1003.73 49.7694 1000.24 51.8354 Q996.758 53.9013 996.758 58.8839 Q996.758 62.8538 999.35 65.2034 Q1001.98 67.5124 1006.48 67.5124 Q1012.68 67.5124 1016.4 63.1374 Q1020.17 58.7219 1020.17 51.4303 L1020.17 49.7694 L1012.76 49.7694 M1027.63 46.6907 L1027.63 72.576 L1020.17 72.576 L1020.17 65.6895 Q1017.62 69.8214 1013.81 71.8063 Q1010 73.7508 1004.49 73.7508 Q997.527 73.7508 993.395 69.8619 Q989.304 65.9325 989.304 59.3701 Q989.304 51.7138 994.408 47.825 Q999.553 43.9361 1009.72 43.9361 L1020.17 43.9361 L1020.17 43.2069 Q1020.17 38.0623 1016.77 35.2672 Q1013.41 32.4315 1007.29 32.4315 Q1003.4 32.4315 999.715 33.3632 Q996.028 34.295 992.626 36.1584 L992.626 29.2718 Q996.717 27.692 1000.57 26.9223 Q1004.41 26.1121 1008.06 26.1121 Q1017.9 26.1121 1022.76 31.2163 Q1027.63 36.3204 1027.63 46.6907 Z\" fill=\"#000000\" fill-rule=\"evenodd\" fill-opacity=\"1\" /><path clip-path=\"url(#clip500)\" d=\"M 0 0 M1035.44 9.54393 L1042.9 9.54393 L1042.9 72.576 L1035.44 72.576 L1035.44 9.54393 Z\" fill=\"#000000\" fill-rule=\"evenodd\" fill-opacity=\"1\" /><path clip-path=\"url(#clip500)\" d=\"M 0 0 M1085.59 18.8205 L1085.59 65.8515 L1095.48 65.8515 Q1108 65.8515 1113.79 60.1802 Q1119.62 54.509 1119.62 42.2752 Q1119.62 30.1225 1113.79 24.4918 Q1108 18.8205 1095.48 18.8205 L1085.59 18.8205 M1077.41 12.096 L1094.22 12.096 Q1111.8 12.096 1120.03 19.4281 Q1128.25 26.7198 1128.25 42.2752 Q1128.25 57.9117 1119.99 65.2439 Q1111.72 72.576 1094.22 72.576 L1077.41 72.576 L1077.41 12.096 Z\" fill=\"#000000\" fill-rule=\"evenodd\" fill-opacity=\"1\" /><path clip-path=\"url(#clip500)\" d=\"M 0 0 M1174.88 48.0275 L1174.88 51.6733 L1140.61 51.6733 Q1141.09 59.3701 1145.22 63.421 Q1149.4 67.4314 1156.81 67.4314 Q1161.1 67.4314 1165.11 66.3781 Q1169.16 65.3249 1173.13 63.2184 L1173.13 70.267 Q1169.12 71.9684 1164.91 72.8596 Q1160.7 73.7508 1156.36 73.7508 Q1145.51 73.7508 1139.15 67.4314 Q1132.83 61.1119 1132.83 50.3365 Q1132.83 39.1965 1138.82 32.6746 Q1144.86 26.1121 1155.07 26.1121 Q1164.22 26.1121 1169.53 32.0264 Q1174.88 37.9003 1174.88 48.0275 M1167.42 45.84 Q1167.34 39.7232 1163.98 36.0774 Q1160.66 32.4315 1155.15 32.4315 Q1148.91 32.4315 1145.14 35.9558 Q1141.42 39.4801 1140.85 45.8805 L1167.42 45.84 Z\" fill=\"#000000\" fill-rule=\"evenodd\" fill-opacity=\"1\" /><path clip-path=\"url(#clip500)\" d=\"M 0 0 M1211.62 28.5427 L1211.62 35.5912 Q1208.46 33.9709 1205.06 33.1607 Q1201.65 32.3505 1198.01 32.3505 Q1192.46 32.3505 1189.66 34.0519 Q1186.91 35.7533 1186.91 39.156 Q1186.91 41.7486 1188.89 43.2475 Q1190.88 44.7058 1196.87 46.0426 L1199.42 46.6097 Q1207.36 48.3111 1210.69 51.4303 Q1214.05 54.509 1214.05 60.0587 Q1214.05 66.3781 1209.02 70.0644 Q1204.04 73.7508 1195.29 73.7508 Q1191.65 73.7508 1187.68 73.0216 Q1183.75 72.3329 1179.37 70.9151 L1179.37 63.2184 Q1183.5 65.3654 1187.51 66.4591 Q1191.52 67.5124 1195.45 67.5124 Q1200.72 67.5124 1203.56 65.73 Q1206.39 63.9071 1206.39 60.6258 Q1206.39 57.5877 1204.33 55.9673 Q1202.3 54.3469 1195.37 52.8481 L1192.78 52.2405 Q1185.85 50.7821 1182.78 47.7845 Q1179.7 44.7463 1179.7 39.4801 Q1179.7 33.0797 1184.23 29.5959 Q1188.77 26.1121 1197.12 26.1121 Q1201.25 26.1121 1204.89 26.7198 Q1208.54 27.3274 1211.62 28.5427 Z\" fill=\"#000000\" fill-rule=\"evenodd\" fill-opacity=\"1\" /><path clip-path=\"url(#clip500)\" d=\"M 0 0 M1221.87 27.2059 L1229.32 27.2059 L1229.32 72.576 L1221.87 72.576 L1221.87 27.2059 M1221.87 9.54393 L1229.32 9.54393 L1229.32 18.9825 L1221.87 18.9825 L1221.87 9.54393 Z\" fill=\"#000000\" fill-rule=\"evenodd\" fill-opacity=\"1\" /><path clip-path=\"url(#clip500)\" d=\"M 0 0 M1266.99 49.3643 Q1266.99 41.2625 1263.63 36.8065 Q1260.31 32.3505 1254.27 32.3505 Q1248.28 32.3505 1244.92 36.8065 Q1241.59 41.2625 1241.59 49.3643 Q1241.59 57.4256 1244.92 61.8816 Q1248.28 66.3376 1254.27 66.3376 Q1260.31 66.3376 1263.63 61.8816 Q1266.99 57.4256 1266.99 49.3643 M1274.45 66.9452 Q1274.45 78.5308 1269.3 84.1616 Q1264.16 89.8329 1253.54 89.8329 Q1249.61 89.8329 1246.13 89.2252 Q1242.65 88.6581 1239.37 87.4428 L1239.37 80.1917 Q1242.65 81.9741 1245.85 82.8248 Q1249.05 83.6755 1252.37 83.6755 Q1259.7 83.6755 1263.35 79.8271 Q1266.99 76.0193 1266.99 68.282 L1266.99 64.5957 Q1264.68 68.6061 1261.08 70.5911 Q1257.47 72.576 1252.45 72.576 Q1244.11 72.576 1239 66.2161 Q1233.9 59.8562 1233.9 49.3643 Q1233.9 38.832 1239 32.472 Q1244.11 26.1121 1252.45 26.1121 Q1257.47 26.1121 1261.08 28.0971 Q1264.68 30.082 1266.99 34.0924 L1266.99 27.2059 L1274.45 27.2059 L1274.45 66.9452 Z\" fill=\"#000000\" fill-rule=\"evenodd\" fill-opacity=\"1\" /><path clip-path=\"url(#clip500)\" d=\"M 0 0 M1319.98 45.1919 L1319.98 72.576 L1312.53 72.576 L1312.53 45.4349 Q1312.53 38.994 1310.01 35.7938 Q1307.5 32.5936 1302.48 32.5936 Q1296.44 32.5936 1292.96 36.4419 Q1289.48 40.2903 1289.48 46.9338 L1289.48 72.576 L1281.98 72.576 L1281.98 27.2059 L1289.48 27.2059 L1289.48 34.2544 Q1292.15 30.163 1295.75 28.1376 Q1299.4 26.1121 1304.14 26.1121 Q1311.96 26.1121 1315.97 30.9732 Q1319.98 35.7938 1319.98 45.1919 Z\" fill=\"#000000\" fill-rule=\"evenodd\" fill-opacity=\"1\" /><path clip-path=\"url(#clip500)\" d=\"M 0 0 M1377.14 9.54393 L1377.14 15.7418 L1370.01 15.7418 Q1366 15.7418 1364.42 17.3622 Q1362.88 18.9825 1362.88 23.1955 L1362.88 27.2059 L1375.15 27.2059 L1375.15 32.9987 L1362.88 32.9987 L1362.88 72.576 L1355.38 72.576 L1355.38 32.9987 L1348.25 32.9987 L1348.25 27.2059 L1355.38 27.2059 L1355.38 24.0462 Q1355.38 16.471 1358.91 13.0277 Q1362.43 9.54393 1370.09 9.54393 L1377.14 9.54393 Z\" fill=\"#000000\" fill-rule=\"evenodd\" fill-opacity=\"1\" /><path clip-path=\"url(#clip500)\" d=\"M 0 0 M1402.54 32.4315 Q1396.54 32.4315 1393.06 37.1306 Q1389.57 41.7891 1389.57 49.9314 Q1389.57 58.0738 1393.02 62.7728 Q1396.5 67.4314 1402.54 67.4314 Q1408.49 67.4314 1411.98 62.7323 Q1415.46 58.0333 1415.46 49.9314 Q1415.46 41.8701 1411.98 37.1711 Q1408.49 32.4315 1402.54 32.4315 M1402.54 26.1121 Q1412.26 26.1121 1417.81 32.4315 Q1423.36 38.7509 1423.36 49.9314 Q1423.36 61.0714 1417.81 67.4314 Q1412.26 73.7508 1402.54 73.7508 Q1392.77 73.7508 1387.22 67.4314 Q1381.71 61.0714 1381.71 49.9314 Q1381.71 38.7509 1387.22 32.4315 Q1392.77 26.1121 1402.54 26.1121 Z\" fill=\"#000000\" fill-rule=\"evenodd\" fill-opacity=\"1\" /><path clip-path=\"url(#clip500)\" d=\"M 0 0 M1457.47 34.1734 Q1456.21 33.4443 1454.71 33.1202 Q1453.25 32.7556 1451.47 32.7556 Q1445.15 32.7556 1441.75 36.8875 Q1438.39 40.9789 1438.39 48.6757 L1438.39 72.576 L1430.89 72.576 L1430.89 27.2059 L1438.39 27.2059 L1438.39 34.2544 Q1440.74 30.1225 1444.5 28.1376 Q1448.27 26.1121 1453.66 26.1121 Q1454.43 26.1121 1455.36 26.2337 Q1456.29 26.3147 1457.43 26.5172 L1457.47 34.1734 Z\" fill=\"#000000\" fill-rule=\"evenodd\" fill-opacity=\"1\" /><path clip-path=\"url(#clip500)\" d=\"M 0 0 M1510.53 76.7889 Q1507.37 84.8907 1504.38 87.3618 Q1501.38 89.8329 1496.36 89.8329 L1490.4 89.8329 L1490.4 83.5945 L1494.78 83.5945 Q1497.85 83.5945 1499.56 82.1361 Q1501.26 80.6778 1503.32 75.2496 L1504.66 71.8468 L1486.31 27.2059 L1494.21 27.2059 L1508.39 62.6918 L1522.56 27.2059 L1530.46 27.2059 L1510.53 76.7889 Z\" fill=\"#000000\" fill-rule=\"evenodd\" fill-opacity=\"1\" /><path clip-path=\"url(#clip500)\" d=\"M 0 0 M1565.63 34.9026 L1617.56 34.9026 L1617.56 41.7081 L1565.63 41.7081 L1565.63 34.9026 M1565.63 51.4303 L1617.56 51.4303 L1617.56 58.3168 L1565.63 58.3168 L1565.63 51.4303 Z\" fill=\"#000000\" fill-rule=\"evenodd\" fill-opacity=\"1\" /><path clip-path=\"url(#clip500)\" d=\"M 0 0 M1674.72 9.54393 L1674.72 15.7418 L1667.59 15.7418 Q1663.58 15.7418 1662 17.3622 Q1660.46 18.9825 1660.46 23.1955 L1660.46 27.2059 L1672.73 27.2059 L1672.73 32.9987 L1660.46 32.9987 L1660.46 72.576 L1652.96 72.576 L1652.96 32.9987 L1645.83 32.9987 L1645.83 27.2059 L1652.96 27.2059 L1652.96 24.0462 Q1652.96 16.471 1656.49 13.0277 Q1660.01 9.54393 1667.67 9.54393 L1674.72 9.54393 Z\" fill=\"#000000\" fill-rule=\"evenodd\" fill-opacity=\"1\" /><path clip-path=\"url(#clip500)\" d=\"M 0 0 M1685.01 65.6895 L1698.37 65.6895 L1698.37 19.5497 L1683.83 22.4663 L1683.83 15.0127 L1698.29 12.096 L1706.48 12.096 L1706.48 65.6895 L1719.84 65.6895 L1719.84 72.576 L1685.01 72.576 L1685.01 65.6895 Z\" fill=\"#000000\" fill-rule=\"evenodd\" fill-opacity=\"1\" /><path clip-path=\"url(#clip500)\" d=\"M 0 0 M1784.37 20.5624 L1784.37 43.1259 L1806.94 43.1259 L1806.94 50.0125 L1784.37 50.0125 L1784.37 72.576 L1777.57 72.576 L1777.57 50.0125 L1755.01 50.0125 L1755.01 43.1259 L1777.57 43.1259 L1777.57 20.5624 L1784.37 20.5624 Z\" fill=\"#000000\" fill-rule=\"evenodd\" fill-opacity=\"1\" /><path clip-path=\"url(#clip500)\" d=\"M 0 0 M1864.1 9.54393 L1864.1 15.7418 L1856.97 15.7418 Q1852.96 15.7418 1851.38 17.3622 Q1849.84 18.9825 1849.84 23.1955 L1849.84 27.2059 L1862.11 27.2059 L1862.11 32.9987 L1849.84 32.9987 L1849.84 72.576 L1842.34 72.576 L1842.34 32.9987 L1835.21 32.9987 L1835.21 27.2059 L1842.34 27.2059 L1842.34 24.0462 Q1842.34 16.471 1845.87 13.0277 Q1849.39 9.54393 1857.05 9.54393 L1864.1 9.54393 Z\" fill=\"#000000\" fill-rule=\"evenodd\" fill-opacity=\"1\" /><path clip-path=\"url(#clip500)\" d=\"M 0 0 M1880.02 65.6895 L1908.58 65.6895 L1908.58 72.576 L1870.17 72.576 L1870.17 65.6895 Q1874.83 60.8689 1882.85 52.7671 Q1890.91 44.6248 1892.98 42.2752 Q1896.91 37.8598 1898.45 34.8216 Q1900.03 31.7429 1900.03 28.7857 Q1900.03 23.9651 1896.63 20.927 Q1893.26 17.8888 1887.83 17.8888 Q1883.99 17.8888 1879.69 19.2256 Q1875.44 20.5624 1870.58 23.2765 L1870.58 15.0127 Q1875.52 13.0277 1879.81 12.015 Q1884.11 11.0023 1887.67 11.0023 Q1897.07 11.0023 1902.66 15.7013 Q1908.25 20.4004 1908.25 28.2591 Q1908.25 31.9859 1906.83 35.3482 Q1905.46 38.6699 1901.77 43.2069 Q1900.76 44.3817 1895.33 50.0125 Q1889.9 55.6027 1880.02 65.6895 Z\" fill=\"#000000\" fill-rule=\"evenodd\" fill-opacity=\"1\" /><path clip-path=\"url(#clip500)\" d=\"M 0 0 M1200.33 2257.48 L1206.22 2257.48 L1206.22 2286.73 L1223.7 2271.36 L1231.18 2271.36 L1212.27 2288.03 L1231.97 2307 L1224.33 2307 L1206.22 2289.59 L1206.22 2307 L1200.33 2307 L1200.33 2257.48 Z\" fill=\"#000000\" fill-rule=\"evenodd\" fill-opacity=\"1\" /><path clip-path=\"url(#clip500)\" d=\"M 0 0 M1260.84 2272.41 L1260.84 2277.94 Q1258.36 2276.67 1255.68 2276.03 Q1253.01 2275.4 1250.15 2275.4 Q1245.79 2275.4 1243.59 2276.73 Q1241.42 2278.07 1241.42 2280.75 Q1241.42 2282.78 1242.98 2283.96 Q1244.54 2285.11 1249.25 2286.16 L1251.26 2286.6 Q1257.5 2287.94 1260.11 2290.39 Q1262.75 2292.81 1262.75 2297.17 Q1262.75 2302.13 1258.8 2305.03 Q1254.89 2307.93 1248.01 2307.93 Q1245.15 2307.93 1242.03 2307.35 Q1238.94 2306.81 1235.5 2305.7 L1235.5 2299.65 Q1238.75 2301.34 1241.9 2302.2 Q1245.05 2303.03 1248.14 2303.03 Q1252.28 2303.03 1254.51 2301.62 Q1256.73 2300.19 1256.73 2297.61 Q1256.73 2295.23 1255.11 2293.95 Q1253.52 2292.68 1248.08 2291.5 L1246.04 2291.03 Q1240.6 2289.88 1238.18 2287.52 Q1235.76 2285.14 1235.76 2281 Q1235.76 2275.97 1239.32 2273.23 Q1242.89 2270.5 1249.45 2270.5 Q1252.69 2270.5 1255.56 2270.97 Q1258.42 2271.45 1260.84 2272.41 Z\" fill=\"#000000\" fill-rule=\"evenodd\" fill-opacity=\"1\" /><path clip-path=\"url(#clip500)\" d=\"M 0 0 M1274.56 2301.66 L1274.56 2320.56 L1268.67 2320.56 L1268.67 2271.36 L1274.56 2271.36 L1274.56 2276.77 Q1276.4 2273.58 1279.21 2272.06 Q1282.04 2270.5 1285.95 2270.5 Q1292.45 2270.5 1296.49 2275.65 Q1300.56 2280.81 1300.56 2289.21 Q1300.56 2297.61 1296.49 2302.77 Q1292.45 2307.93 1285.95 2307.93 Q1282.04 2307.93 1279.21 2306.4 Q1276.4 2304.84 1274.56 2301.66 M1294.48 2289.21 Q1294.48 2282.75 1291.81 2279.09 Q1289.17 2275.4 1284.52 2275.4 Q1279.87 2275.4 1277.2 2279.09 Q1274.56 2282.75 1274.56 2289.21 Q1274.56 2295.67 1277.2 2299.36 Q1279.87 2303.03 1284.52 2303.03 Q1289.17 2303.03 1291.81 2299.36 Q1294.48 2295.67 1294.48 2289.21 Z\" fill=\"#000000\" fill-rule=\"evenodd\" fill-opacity=\"1\" /><path clip-path=\"url(#clip500)\" d=\"M 0 0 M1333.79 2317.83 L1333.79 2322.38 L1299.93 2322.38 L1299.93 2317.83 L1333.79 2317.83 Z\" fill=\"#000000\" fill-rule=\"evenodd\" fill-opacity=\"1\" /><path clip-path=\"url(#clip500)\" d=\"M 0 0 M1345.73 2261.23 L1345.73 2271.36 L1357.79 2271.36 L1357.79 2275.91 L1345.73 2275.91 L1345.73 2295.26 Q1345.73 2299.62 1346.9 2300.86 Q1348.11 2302.1 1351.77 2302.1 L1357.79 2302.1 L1357.79 2307 L1351.77 2307 Q1344.99 2307 1342.42 2304.49 Q1339.84 2301.94 1339.84 2295.26 L1339.84 2275.91 L1335.54 2275.91 L1335.54 2271.36 L1339.84 2271.36 L1339.84 2261.23 L1345.73 2261.23 Z\" fill=\"#000000\" fill-rule=\"evenodd\" fill-opacity=\"1\" /><path clip-path=\"url(#clip500)\" d=\"M 0 0 M1378.77 2310.31 Q1376.28 2316.68 1373.93 2318.62 Q1371.57 2320.56 1367.63 2320.56 L1362.95 2320.56 L1362.95 2315.66 L1366.38 2315.66 Q1368.8 2315.66 1370.14 2314.52 Q1371.48 2313.37 1373.1 2309.1 L1374.15 2306.43 L1359.73 2271.36 L1365.94 2271.36 L1377.08 2299.24 L1388.22 2271.36 L1394.42 2271.36 L1378.77 2310.31 Z\" fill=\"#000000\" fill-rule=\"evenodd\" fill-opacity=\"1\" /><path clip-path=\"url(#clip500)\" d=\"M 0 0 M1406.23 2301.66 L1406.23 2320.56 L1400.34 2320.56 L1400.34 2271.36 L1406.23 2271.36 L1406.23 2276.77 Q1408.08 2273.58 1410.88 2272.06 Q1413.71 2270.5 1417.63 2270.5 Q1424.12 2270.5 1428.16 2275.65 Q1432.24 2280.81 1432.24 2289.21 Q1432.24 2297.61 1428.16 2302.77 Q1424.12 2307.93 1417.63 2307.93 Q1413.71 2307.93 1410.88 2306.4 Q1408.08 2304.84 1406.23 2301.66 M1426.16 2289.21 Q1426.16 2282.75 1423.48 2279.09 Q1420.84 2275.4 1416.2 2275.4 Q1411.55 2275.4 1408.87 2279.09 Q1406.23 2282.75 1406.23 2289.21 Q1406.23 2295.67 1408.87 2299.36 Q1411.55 2303.03 1416.2 2303.03 Q1420.84 2303.03 1423.48 2299.36 Q1426.16 2295.67 1426.16 2289.21 Z\" fill=\"#000000\" fill-rule=\"evenodd\" fill-opacity=\"1\" /><path clip-path=\"url(#clip500)\" d=\"M 0 0 M1468.87 2287.72 L1468.87 2290.58 L1441.94 2290.58 Q1442.33 2296.63 1445.57 2299.81 Q1448.85 2302.96 1454.68 2302.96 Q1458.05 2302.96 1461.2 2302.13 Q1464.38 2301.31 1467.5 2299.65 L1467.5 2305.19 Q1464.35 2306.53 1461.04 2307.23 Q1457.73 2307.93 1454.33 2307.93 Q1445.8 2307.93 1440.8 2302.96 Q1435.83 2298 1435.83 2289.53 Q1435.83 2280.78 1440.54 2275.65 Q1445.29 2270.5 1453.31 2270.5 Q1460.5 2270.5 1464.67 2275.14 Q1468.87 2279.76 1468.87 2287.72 M1463.02 2286 Q1462.95 2281.19 1460.31 2278.33 Q1457.7 2275.46 1453.37 2275.46 Q1448.47 2275.46 1445.51 2278.23 Q1442.58 2281 1442.14 2286.03 L1463.02 2286 Z\" fill=\"#000000\" fill-rule=\"evenodd\" fill-opacity=\"1\" /><path clip-path=\"url(#clip500)\" d=\"M 0 0 M106.417 1274.04 L125.323 1274.04 L125.323 1279.93 L76.1162 1279.93 L76.1162 1274.04 L81.5271 1274.04 Q78.3442 1272.19 76.8164 1269.39 Q75.2568 1266.56 75.2568 1262.64 Q75.2568 1256.15 80.4131 1252.11 Q85.5693 1248.03 93.972 1248.03 Q102.375 1248.03 107.531 1252.11 Q112.687 1256.15 112.687 1262.64 Q112.687 1266.56 111.159 1269.39 Q109.6 1272.19 106.417 1274.04 M93.972 1254.11 Q87.5108 1254.11 83.8505 1256.79 Q80.1584 1259.43 80.1584 1264.07 Q80.1584 1268.72 83.8505 1271.4 Q87.5108 1274.04 93.972 1274.04 Q100.433 1274.04 104.125 1271.4 Q107.786 1268.72 107.786 1264.07 Q107.786 1259.43 104.125 1256.79 Q100.433 1254.11 93.972 1254.11 Z\" fill=\"#000000\" fill-rule=\"evenodd\" fill-opacity=\"1\" /><path clip-path=\"url(#clip500)\" d=\"M 0 0 M77.4848 1216.24 L82.9593 1216.24 Q81.5907 1218.72 80.9223 1221.23 Q80.2221 1223.72 80.2221 1226.26 Q80.2221 1231.96 83.8505 1235.11 Q87.4472 1238.26 93.972 1238.26 Q100.497 1238.26 104.125 1235.11 Q107.722 1231.96 107.722 1226.26 Q107.722 1223.72 107.054 1221.23 Q106.353 1218.72 104.985 1216.24 L110.396 1216.24 Q111.541 1218.69 112.114 1221.33 Q112.687 1223.94 112.687 1226.9 Q112.687 1234.95 107.626 1239.69 Q102.566 1244.44 93.972 1244.44 Q85.251 1244.44 80.2539 1239.66 Q75.2568 1234.86 75.2568 1226.52 Q75.2568 1223.81 75.8297 1221.23 Q76.3708 1218.66 77.4848 1216.24 Z\" fill=\"#000000\" fill-rule=\"evenodd\" fill-opacity=\"1\" /><path clip-path=\"url(#clip500)\" d=\"M 0 0 M122.586 1183.01 L127.137 1183.01 L127.137 1216.87 L122.586 1216.87 L122.586 1183.01 Z\" fill=\"#000000\" fill-rule=\"evenodd\" fill-opacity=\"1\" /><path clip-path=\"url(#clip500)\" d=\"M 0 0 M65.9947 1171.07 L76.1162 1171.07 L76.1162 1159.01 L80.6677 1159.01 L80.6677 1171.07 L100.019 1171.07 Q104.38 1171.07 105.621 1169.89 Q106.863 1168.68 106.863 1165.02 L106.863 1159.01 L111.764 1159.01 L111.764 1165.02 Q111.764 1171.8 109.25 1174.38 Q106.703 1176.96 100.019 1176.96 L80.6677 1176.96 L80.6677 1181.26 L76.1162 1181.26 L76.1162 1176.96 L65.9947 1176.96 L65.9947 1171.07 Z\" fill=\"#000000\" fill-rule=\"evenodd\" fill-opacity=\"1\" /><path clip-path=\"url(#clip500)\" d=\"M 0 0 M115.074 1138.03 Q121.44 1140.52 123.382 1142.87 Q125.323 1145.23 125.323 1149.17 L125.323 1153.85 L120.422 1153.85 L120.422 1150.41 Q120.422 1148 119.276 1146.66 Q118.13 1145.32 113.865 1143.7 L111.191 1142.65 L76.1162 1157.07 L76.1162 1150.86 L103.998 1139.72 L76.1162 1128.58 L76.1162 1122.37 L115.074 1138.03 Z\" fill=\"#000000\" fill-rule=\"evenodd\" fill-opacity=\"1\" /><path clip-path=\"url(#clip500)\" d=\"M 0 0 M106.417 1110.57 L125.323 1110.57 L125.323 1116.45 L76.1162 1116.45 L76.1162 1110.57 L81.5271 1110.57 Q78.3442 1108.72 76.8164 1105.92 Q75.2568 1103.09 75.2568 1099.17 Q75.2568 1092.68 80.4131 1088.64 Q85.5693 1084.56 93.972 1084.56 Q102.375 1084.56 107.531 1088.64 Q112.687 1092.68 112.687 1099.17 Q112.687 1103.09 111.159 1105.92 Q109.6 1108.72 106.417 1110.57 M93.972 1090.64 Q87.5108 1090.64 83.8505 1093.31 Q80.1584 1095.96 80.1584 1100.6 Q80.1584 1105.25 83.8505 1107.92 Q87.5108 1110.57 93.972 1110.57 Q100.433 1110.57 104.125 1107.92 Q107.786 1105.25 107.786 1100.6 Q107.786 1095.96 104.125 1093.31 Q100.433 1090.64 93.972 1090.64 Z\" fill=\"#000000\" fill-rule=\"evenodd\" fill-opacity=\"1\" /><path clip-path=\"url(#clip500)\" d=\"M 0 0 M92.4761 1047.93 L95.3406 1047.93 L95.3406 1074.85 Q101.388 1074.47 104.571 1071.23 Q107.722 1067.95 107.722 1062.12 Q107.722 1058.75 106.894 1055.6 Q106.067 1052.41 104.412 1049.3 L109.95 1049.3 Q111.287 1052.45 111.987 1055.76 Q112.687 1059.07 112.687 1062.47 Q112.687 1071 107.722 1076 Q102.757 1080.96 94.2903 1080.96 Q85.5374 1080.96 80.4131 1076.25 Q75.2568 1071.51 75.2568 1063.49 Q75.2568 1056.3 79.9038 1052.13 Q84.5189 1047.93 92.4761 1047.93 M90.7573 1053.78 Q85.9512 1053.85 83.0866 1056.49 Q80.2221 1059.1 80.2221 1063.43 Q80.2221 1068.33 82.9912 1071.29 Q85.7602 1074.22 90.7892 1074.66 L90.7573 1053.78 Z\" fill=\"#000000\" fill-rule=\"evenodd\" fill-opacity=\"1\" /><circle clip-path=\"url(#clip502)\" cx=\"374.081\" cy=\"2116.96\" r=\"14\" fill=\"#009af9\" fill-rule=\"evenodd\" fill-opacity=\"1\" stroke=\"#000000\" stroke-opacity=\"1\" stroke-width=\"4.8\"/>\n",
       "<circle clip-path=\"url(#clip502)\" cx=\"614.212\" cy=\"1481.6\" r=\"14\" fill=\"#009af9\" fill-rule=\"evenodd\" fill-opacity=\"1\" stroke=\"#000000\" stroke-opacity=\"1\" stroke-width=\"4.8\"/>\n",
       "<circle clip-path=\"url(#clip502)\" cx=\"854.342\" cy=\"846.249\" r=\"14\" fill=\"#009af9\" fill-rule=\"evenodd\" fill-opacity=\"1\" stroke=\"#000000\" stroke-opacity=\"1\" stroke-width=\"4.8\"/>\n",
       "<circle clip-path=\"url(#clip502)\" cx=\"1094.47\" cy=\"210.894\" r=\"14\" fill=\"#009af9\" fill-rule=\"evenodd\" fill-opacity=\"1\" stroke=\"#000000\" stroke-opacity=\"1\" stroke-width=\"4.8\"/>\n",
       "<circle clip-path=\"url(#clip502)\" cx=\"1334.6\" cy=\"846.249\" r=\"14\" fill=\"#009af9\" fill-rule=\"evenodd\" fill-opacity=\"1\" stroke=\"#000000\" stroke-opacity=\"1\" stroke-width=\"4.8\"/>\n",
       "<circle clip-path=\"url(#clip502)\" cx=\"1574.73\" cy=\"2116.96\" r=\"14\" fill=\"#009af9\" fill-rule=\"evenodd\" fill-opacity=\"1\" stroke=\"#000000\" stroke-opacity=\"1\" stroke-width=\"4.8\"/>\n",
       "<circle clip-path=\"url(#clip502)\" cx=\"374.081\" cy=\"1481.6\" r=\"14\" fill=\"#009af9\" fill-rule=\"evenodd\" fill-opacity=\"1\" stroke=\"#000000\" stroke-opacity=\"1\" stroke-width=\"4.8\"/>\n",
       "<circle clip-path=\"url(#clip502)\" cx=\"1814.86\" cy=\"210.894\" r=\"14\" fill=\"#009af9\" fill-rule=\"evenodd\" fill-opacity=\"1\" stroke=\"#000000\" stroke-opacity=\"1\" stroke-width=\"4.8\"/>\n",
       "<circle clip-path=\"url(#clip502)\" cx=\"2054.99\" cy=\"846.249\" r=\"14\" fill=\"#009af9\" fill-rule=\"evenodd\" fill-opacity=\"1\" stroke=\"#000000\" stroke-opacity=\"1\" stroke-width=\"4.8\"/>\n",
       "<circle clip-path=\"url(#clip502)\" cx=\"2295.12\" cy=\"846.249\" r=\"14\" fill=\"#009af9\" fill-rule=\"evenodd\" fill-opacity=\"1\" stroke=\"#000000\" stroke-opacity=\"1\" stroke-width=\"4.8\"/>\n",
       "</svg>\n"
      ]
     },
     "execution_count": 32,
     "metadata": {},
     "output_type": "execute_result"
    }
   ],
   "source": [
    "@df optimal_design.matrix scatter(:ksp_type,\n",
    "    :pc_type,\n",
    "    size = (600, 600),\n",
    "    xlabel = \"ksp_type\",\n",
    "    ylabel = \"pc_type\",\n",
    "    legend = false,\n",
    "    title = \"Optimal Design for y = f1 + f2\")"
   ]
  },
  {
   "cell_type": "code",
   "execution_count": 9,
   "metadata": {},
   "outputs": [
    {
     "ename": "UndefVarError",
     "evalue": "UndefVarError: optimal_design not defined",
     "output_type": "error",
     "traceback": [
      "UndefVarError: optimal_design not defined",
      "",
      "Stacktrace:",
      " [1] top-level scope at In[9]:1"
     ]
    }
   ],
   "source": [
    "optimal_design.matrix[!, :response] = y.(eachrow(optimal_design.matrix))\n",
    "results = copy(optimal_design.matrix)\n",
    "\n",
    "for i in 1:repetitions\n",
    "    optimal_design.matrix[!, :response] = y.(eachrow(optimal_design.matrix))\n",
    "    append!(results, copy(optimal_design.matrix))\n",
    "end\n",
    "\n",
    "# Save CSV\n",
    "CSV.write(\"repeated_measurements_random.csv\", results)"
   ]
  }
 ],
 "metadata": {
  "kernelspec": {
   "display_name": "Julia 1.4.1",
   "language": "julia",
   "name": "julia-1.4"
  },
  "language_info": {
   "file_extension": ".jl",
   "mimetype": "application/julia",
   "name": "julia",
   "version": "1.4.1"
  }
 },
 "nbformat": 4,
 "nbformat_minor": 2
}
